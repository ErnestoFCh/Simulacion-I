{
  "nbformat": 4,
  "nbformat_minor": 0,
  "metadata": {
    "colab": {
      "provenance": [],
      "authorship_tag": "ABX9TyMd36F3es7elo0yr8DQRjFX",
      "include_colab_link": true
    },
    "kernelspec": {
      "name": "python3",
      "display_name": "Python 3"
    },
    "language_info": {
      "name": "python"
    }
  },
  "cells": [
    {
      "cell_type": "markdown",
      "metadata": {
        "id": "view-in-github",
        "colab_type": "text"
      },
      "source": [
        "<a href=\"https://colab.research.google.com/github/ErnestoFCh/Simulacion-I/blob/main/Chi_prueba.ipynb\" target=\"_parent\"><img src=\"https://colab.research.google.com/assets/colab-badge.svg\" alt=\"Open In Colab\"/></a>"
      ]
    },
    {
      "cell_type": "markdown",
      "source": [
        "La prueba de Chi-Cuadrado es un procedimiento estadístico utilizado para determinar si existe una diferencia significativa entre los resultados esperados y los observados en una o más categorías.\n",
        "\n",
        "En esta prueba de hipotesis el estadistico de prueba se calcula:\n",
        "$\\chi^2 =\\sum \\frac{(f_0-f_e)^2}{f_e}$\n",
        "\n",
        "valor critico: $\\chi^2_{(\\alpha, k-1)}$"
      ],
      "metadata": {
        "id": "4oDBdGMma7Mm"
      }
    },
    {
      "cell_type": "code",
      "source": [
        "import numpy as np\n",
        "import scipy.stats\n",
        "from tabulate import tabulate\n",
        "n=50\n",
        "alp=0.05"
      ],
      "metadata": {
        "id": "Bj_mrUrIcA70"
      },
      "execution_count": null,
      "outputs": []
    },
    {
      "cell_type": "code",
      "execution_count": null,
      "metadata": {
        "id": "j0oQGaiGsuRW"
      },
      "outputs": [],
      "source": [
        "def PH(X0,alp):\n",
        "  X1= scipy.stats.chi2.ppf (1-alp,4)  #Calculamos el valor critico\n",
        "  print(f\"Estadistico de prueba: Xo={X0}\\nValor Critico:Xc={X1:.4f}\")\n",
        "  if X0<X1:\n",
        "    k=\"No hay suficiente evidencia para rechazar Ho\"\n",
        "    print(f\"{X0}<{X1:.4f}\")\n",
        "  else:\n",
        "    k=\"Hay suficiente evidencia para rechazar Ho\"\n",
        "    print(f\"{X0}>{X1:.4f}\")\n",
        "\n",
        "\n",
        "  return k"
      ]
    },
    {
      "cell_type": "code",
      "source": [
        "def frec(x):\n",
        "  F1=[]\n",
        "  F2=[]\n",
        "  F3=[]\n",
        "  F4=[]\n",
        "  F5=[]\n",
        "  for i in x:\n",
        "    if 0.00 <= i <= 0.1999:\n",
        "      F1.append(i)\n",
        "    elif 0.2 <= i <= 0.3999:\n",
        "      F2.append(i)\n",
        "    elif 0.4 <= i <= 0.5999:    #definimos los intervalos\n",
        "      F3.append(i)\n",
        "    elif 0.6 <= i <= 0.7999:\n",
        "      F4.append(i)\n",
        "    elif 0.8 <= i <= 1:\n",
        "      F5.append(i)\n",
        "\n",
        "  FREC=[len(F1),len(F2),len(F3),len(F4),len(F5)] #calculamos las frecuencias\n",
        "  return FREC"
      ],
      "metadata": {
        "id": "SBbALQFRu7uN"
      },
      "execution_count": null,
      "outputs": []
    },
    {
      "cell_type": "code",
      "source": [
        "def sX(fo,n):\n",
        " xo=0\n",
        " ff=[]\n",
        " if n%5==0:\n",
        "  for i in fo:\n",
        "   xo=xo+((i-n/5)**2)/(n/5)   #calculamos el estadistico de prueba\n",
        "   ff.append(xo)\n",
        " return xo,ff"
      ],
      "metadata": {
        "id": "Gewr-XVs1SHT"
      },
      "execution_count": null,
      "outputs": []
    },
    {
      "cell_type": "code",
      "source": [
        "x = [0.8797, 0.3884, 0.6289, 0.875, 0.5999, 0.8589, 0.9996, 0.2415, 0.3808, 0.9606, 0.9848, 0.3469, 0.7977, 0.5844, 0.8147, 0.6431, 0.7387, 0.5613, 0.0318, 0.7401, 0.4557, 0.1592, 0.8536, 0.8846, 0.341, 0.1492, 0.8681, 0.5291, 0.3188, 0.5992, 0.917, 0.2204, 0.5991, 0.5461, 0.5739, 0.3254, 0.0856, 0.2258, 0.4603, 0.5027, 0.8376, 0.6235, 0.3681, 0.2088, 0.1525, 0.2006, 0.472, 0.4272, 0.636, 0.0954]\n"
      ],
      "metadata": {
        "id": "K5PRAuGffx6U"
      },
      "execution_count": null,
      "outputs": []
    },
    {
      "cell_type": "code",
      "source": [
        "frec1=frec(x)\n",
        "sx,ff=sX(frec1,n)\n",
        "\n",
        "\n",
        "intervalos=[\"0.000-0.1999\",\"0.200-0.3999\",\"0.400-0.5999\",\"0.600- 0.7999\",\"0.800-1.00\"]\n",
        "fe=[10,10,10,10.,10.]\n",
        "data=list(zip(intervalos,frec1,fe,ff))\n",
        "headers=[\"intervalo\",\"fo\",\"fe\",\"(fo-fe)^2/fe\"]\n",
        "print(tabulate(data, headers=headers, tablefmt=\"fancy_grid\"))\n",
        "\n",
        "\n",
        "PH(sx,alp)"
      ],
      "metadata": {
        "colab": {
          "base_uri": "https://localhost:8080/",
          "height": 781
        },
        "id": "-l1Lfn3Lf1Bq",
        "outputId": "9e0605d7-6df7-48ae-d89f-d4b769cf273b"
      },
      "execution_count": null,
      "outputs": [
        {
          "output_type": "stream",
          "name": "stdout",
          "text": [
            "╒═══════════════╤══════╤══════╤════════════════╕\n",
            "│ intervalo     │   fo │   fe │   (fo-fe)^2/fe │\n",
            "╞═══════════════╪══════╪══════╪════════════════╡\n",
            "│ 0.000-0.1999  │    6 │   10 │            1.6 │\n",
            "├───────────────┼──────┼──────┼────────────────┤\n",
            "│ 0.200-0.3999  │   12 │   10 │            2   │\n",
            "├───────────────┼──────┼──────┼────────────────┤\n",
            "│ 0.400-0.5999  │   13 │   10 │            2.9 │\n",
            "├───────────────┼──────┼──────┼────────────────┤\n",
            "│ 0.600- 0.7999 │    7 │   10 │            3.8 │\n",
            "├───────────────┼──────┼──────┼────────────────┤\n",
            "│ 0.800-1.00    │   12 │   10 │            4.2 │\n",
            "╘═══════════════╧══════╧══════╧════════════════╛\n",
            "Estadistico de prueba: Xo=4.2\n",
            "Valor Critico:Xc=9.4877\n",
            "4.2<9.4877\n"
          ]
        },
        {
          "output_type": "execute_result",
          "data": {
            "text/plain": [
              "'No hay suficiente evidencia para rechazar Ho'"
            ],
            "application/vnd.google.colaboratory.intrinsic+json": {
              "type": "string"
            }
          },
          "metadata": {},
          "execution_count": 6
        }
      ]
    }
  ]
}