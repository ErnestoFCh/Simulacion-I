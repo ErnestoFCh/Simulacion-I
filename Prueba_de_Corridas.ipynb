{
  "nbformat": 4,
  "nbformat_minor": 0,
  "metadata": {
    "colab": {
      "provenance": [],
      "authorship_tag": "ABX9TyMCPc1NzQxppueB2fH0BLAk",
      "include_colab_link": true
    },
    "kernelspec": {
      "name": "python3",
      "display_name": "Python 3"
    },
    "language_info": {
      "name": "python"
    }
  },
  "cells": [
    {
      "cell_type": "markdown",
      "metadata": {
        "id": "view-in-github",
        "colab_type": "text"
      },
      "source": [
        "<a href=\"https://colab.research.google.com/github/ErnestoFCh/Simulacion-I/blob/main/Prueba_de_Corridas.ipynb\" target=\"_parent\"><img src=\"https://colab.research.google.com/assets/colab-badge.svg\" alt=\"Open In Colab\"/></a>"
      ]
    },
    {
      "cell_type": "code",
      "source": [
        "import math"
      ],
      "metadata": {
        "id": "zJq9ZzPKchmU"
      },
      "execution_count": 112,
      "outputs": []
    },
    {
      "cell_type": "code",
      "execution_count": 113,
      "metadata": {
        "id": "YQ9qHkIsLguf"
      },
      "outputs": [],
      "source": [
        "datos = [\n",
        "    0.048, 0.591, 0.478, 0.166, 0.932,\n",
        "    0.926, 0.007, 0.551, 0.362, 0.533,\n",
        "    0.368, 0.437, 0.178, 0.411, 0.545,\n",
        "    0.787, 0.594, 0.086, 0.951, 0.772,\n",
        "    0.298, 0.199, 0.157, 0.401, 0.631\n",
        "]\n",
        "\n"
      ]
    },
    {
      "cell_type": "code",
      "source": [
        "def secuencia(datos):\n",
        "  S = []\n",
        "  n=len(datos)\n",
        "  for i in range(1,n):\n",
        "    if datos[i] <= datos[i-1]: ## se crea una lista para recorrerla y llenarla de 1 y 0\n",
        "      S.append(0)\n",
        "    else:\n",
        "      S.append(1)\n",
        "  return S"
      ],
      "metadata": {
        "id": "h9CXsbAWNqgY"
      },
      "execution_count": 114,
      "outputs": []
    },
    {
      "cell_type": "code",
      "source": [
        "def corridas(x):\n",
        "  c=1\n",
        "  n=len(x)\n",
        "  for i in range(n-1):\n",
        "    if x[i]!=x[i+1]:     #Aqui calculamos el numero de corridas que hay en el la lista de 1 y 0\n",
        "      c+=1\n",
        "  return c"
      ],
      "metadata": {
        "id": "Igt-DYzbNxIH"
      },
      "execution_count": 115,
      "outputs": []
    },
    {
      "cell_type": "code",
      "source": [
        "def WW(x,c):\n",
        "  n=len(x)\n",
        "\n",
        "  u=(2*n-1)/3\n",
        "  sigma=(16*n-29)/90\n",
        "\n",
        "  z=(c*(1-u))/(math.sqrt(sigma)*c)\n",
        "\n",
        "  if -1.95<=z<=1.95:\n",
        "    print(\"Los numeros de la muestra x_i son independientes,\\n No hay suficiente evidencia para rechazar Ho.\")\n",
        "  else:\n",
        "    print(\"Los numeros de la muestra x_i no son independientes,\\nHay suficiente evidencia para rechazar Ho.\")\n",
        "  return"
      ],
      "metadata": {
        "id": "sINf-j1OZSLy"
      },
      "execution_count": 116,
      "outputs": []
    },
    {
      "cell_type": "code",
      "source": [
        "x=secuencia(datos)\n",
        "c=corridas(x)\n",
        "\n",
        "print(x,\"\\n\\nNumero de corridas: \",c,\"\\n\")\n",
        "\n",
        "WW(datos,c)\n"
      ],
      "metadata": {
        "colab": {
          "base_uri": "https://localhost:8080/"
        },
        "id": "cZBWuW1pYfEj",
        "outputId": "e53bbfcd-bf2b-4b28-c9c7-f2a6ae1965a0"
      },
      "execution_count": 117,
      "outputs": [
        {
          "output_type": "stream",
          "name": "stdout",
          "text": [
            "[1, 0, 0, 1, 0, 0, 1, 0, 1, 0, 1, 0, 1, 1, 1, 0, 0, 1, 0, 0, 0, 0, 1, 1] \n",
            "\n",
            "Numero de corridas:  15 \n",
            "\n",
            "Los numeros de la muestra x_i no son independientes,\n",
            "Hay suficiente evidencia para rechazar Ho.\n"
          ]
        }
      ]
    }
  ]
}