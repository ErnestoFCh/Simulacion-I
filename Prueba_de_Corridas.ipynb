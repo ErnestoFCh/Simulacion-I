{
  "nbformat": 4,
  "nbformat_minor": 0,
  "metadata": {
    "colab": {
      "provenance": [],
      "authorship_tag": "ABX9TyP3YedmaGLAFBZoCPfcFSsB",
      "include_colab_link": true
    },
    "kernelspec": {
      "name": "python3",
      "display_name": "Python 3"
    },
    "language_info": {
      "name": "python"
    }
  },
  "cells": [
    {
      "cell_type": "markdown",
      "metadata": {
        "id": "view-in-github",
        "colab_type": "text"
      },
      "source": [
        "<a href=\"https://colab.research.google.com/github/ErnestoFCh/Simulacion-I/blob/main/Prueba_de_Corridas.ipynb\" target=\"_parent\"><img src=\"https://colab.research.google.com/assets/colab-badge.svg\" alt=\"Open In Colab\"/></a>"
      ]
    },
    {
      "cell_type": "markdown",
      "source": [
        "# **Prueba de Corridas**\n",
        "Una prueba de Corridas es un método que nos ayuda a evaluar el carácter de aleatoriedad de una secuencia de números estadísticamente independientes y números uniformemente distribuidos.\n",
        "\n",
        "Es decir dado una serie de números determinar si son o no aleatorios.\n",
        "\n",
        "Pasos.\n",
        "1. Determinamos una secuencia S de unos y ceros. $0$ si $X_i\\leq X_{i-1}$,  \n",
        " $i=1,2,...,n$\n",
        "2. Halle el numero de corridas (rachas) observadas $c_0$\n",
        "3. Calcule el valor esperado y la varianza del numero de corridas, asi como el estadistico $z_0$.\n",
        "\n",
        "--- $\\mu_{c_0}=\\frac{2n-1}{3}$\n",
        "\n",
        "\n",
        "---$\\sigma^2_{c_0}=\\frac{16n-29}{90}$\n",
        "\n",
        "\n",
        "---$z_0=\\frac{c_0-\\mu_{c_0}}{\\sigma^2_{c_0}}$\n",
        "\n",
        "Como $c_0\\sim N(\\mu_{c_0},\\sigma_{c_0})$ ,  $z_0\\sim N(0,1)$\n",
        "\n",
        "El intervalo de aceptacion:\n",
        "$z_0 \\in [\\mp z_{\\frac {\\alpha}{2}}]$ , $\\alpha=0.05$\n",
        "\n",
        "\n",
        "\n",
        "\n",
        "\n",
        "\n",
        "\n",
        "\n",
        "\n",
        "\n"
      ],
      "metadata": {
        "id": "bNpZ6me2o32v"
      }
    },
    {
      "cell_type": "code",
      "source": [
        "import math"
      ],
      "metadata": {
        "id": "zJq9ZzPKchmU"
      },
      "execution_count": 21,
      "outputs": []
    },
    {
      "cell_type": "code",
      "execution_count": 22,
      "metadata": {
        "id": "YQ9qHkIsLguf"
      },
      "outputs": [],
      "source": [
        "datos = [\n",
        "    0.048, 0.591, 0.478, 0.166, 0.932,\n",
        "    0.926, 0.007, 0.551, 0.362, 0.533,\n",
        "    0.368, 0.437, 0.178, 0.411, 0.545,\n",
        "    0.787, 0.594, 0.086, 0.951, 0.772,\n",
        "    0.298, 0.199, 0.157, 0.401, 0.631\n",
        "]\n",
        "\n"
      ]
    },
    {
      "cell_type": "code",
      "source": [
        "def secuencia(datos):\n",
        "  S = []\n",
        "  n=len(datos)\n",
        "  for i in range(1,n):\n",
        "    if datos[i] <= datos[i-1]: ## se crea una lista para recorrerla y llenarla de 1 y 0\n",
        "      S.append(0)\n",
        "    else:\n",
        "      S.append(1)\n",
        "  return S"
      ],
      "metadata": {
        "id": "h9CXsbAWNqgY"
      },
      "execution_count": 23,
      "outputs": []
    },
    {
      "cell_type": "code",
      "source": [
        "def corridas(x):\n",
        "  c=1\n",
        "  n=len(x)\n",
        "  for i in range(n-1):\n",
        "    if x[i]!=x[i+1]:     #Aqui calculamos el numero de corridas que hay en el la lista de 1 y 0\n",
        "      c+=1\n",
        "  return c"
      ],
      "metadata": {
        "id": "Igt-DYzbNxIH"
      },
      "execution_count": 24,
      "outputs": []
    },
    {
      "cell_type": "code",
      "source": [
        "def WW(x,c):\n",
        "  n=len(x)\n",
        "\n",
        "  u=((2*n-1)/3)        #Calculamos los estadisticos correspondientes\n",
        "  sigma=(16*n-29)/90\n",
        "\n",
        "\n",
        "  z=(c-u)/(math.sqrt(sigma))\n",
        "\n",
        "  if -1.95<=z<=1.95:\n",
        "    print(\"Los numeros de la muestra x_i son independientes,\\n No hay suficiente evidencia para rechazar Ho.\")\n",
        "  else:\n",
        "    print(\"Los numeros de la muestra x_i no son independientes,\\nHay suficiente evidencia para rechazar Ho.\")\n",
        "  return"
      ],
      "metadata": {
        "id": "sINf-j1OZSLy"
      },
      "execution_count": 25,
      "outputs": []
    },
    {
      "cell_type": "code",
      "source": [
        "x=secuencia(datos)\n",
        "c=corridas(x)\n",
        "\n",
        "print(x,\"\\n\\nNumero de corridas: \",c,\"\\n\")\n",
        "\n",
        "WW(datos,c)\n"
      ],
      "metadata": {
        "colab": {
          "base_uri": "https://localhost:8080/"
        },
        "id": "cZBWuW1pYfEj",
        "outputId": "9e612b28-7071-405f-934e-ab8518a829c9"
      },
      "execution_count": 26,
      "outputs": [
        {
          "output_type": "stream",
          "name": "stdout",
          "text": [
            "[1, 0, 0, 1, 0, 0, 1, 0, 1, 0, 1, 0, 1, 1, 1, 0, 0, 1, 0, 0, 0, 0, 1, 1] \n",
            "\n",
            "Numero de corridas:  15 \n",
            "\n",
            "Los numeros de la muestra x_i son independientes,\n",
            " No hay suficiente evidencia para rechazar Ho.\n"
          ]
        }
      ]
    }
  ]
}