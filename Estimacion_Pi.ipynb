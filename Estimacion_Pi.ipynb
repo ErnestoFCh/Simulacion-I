{
  "nbformat": 4,
  "nbformat_minor": 0,
  "metadata": {
    "colab": {
      "provenance": [],
      "authorship_tag": "ABX9TyP7tgXWINN8mFf572MlK+qx",
      "include_colab_link": true
    },
    "kernelspec": {
      "name": "python3",
      "display_name": "Python 3"
    },
    "language_info": {
      "name": "python"
    }
  },
  "cells": [
    {
      "cell_type": "markdown",
      "metadata": {
        "id": "view-in-github",
        "colab_type": "text"
      },
      "source": [
        "<a href=\"https://colab.research.google.com/github/ErnestoFCh/Simulacion-I/blob/main/Estimacion_Pi.ipynb\" target=\"_parent\"><img src=\"https://colab.research.google.com/assets/colab-badge.svg\" alt=\"Open In Colab\"/></a>"
      ]
    },
    {
      "cell_type": "markdown",
      "source": [
        "#Analiticamente:\n",
        "Definimos el estimador:\n",
        "$$\\hat{\\pi}=\\frac{4n}{N}$$\n",
        "Consideramos la variable:\n",
        "$$X_i=\\left\\{\\begin{matrix}\n",
        "1, &si \\quad \\text{el dardo cae dentro del punto}\\quad (p) \\\\\n",
        " 0,&si \\quad \\text{si cae fuera} \\quad (1-p)\n",
        "\\end{matrix}\\right.$$\n",
        "\n",
        "Definimos:\n",
        "$$Z_N=4\\cdot\\frac{X_1+X_2+...+X_N}{N}$$\n",
        "\n",
        "Calculamos el valor esperado y la varianza que por sus propiedades se tiene:\n",
        "\n",
        "$$E[Z_N]=\\frac{4}{N}\\cdot(E[X_1]+E[X_2]+...+E[X_N])$$\n",
        "$$V[Z_N]=\\frac{16}{N^2}\\cdot(V[X_1]+V[X_2]+...+V[X_N])$$\n",
        "\n",
        "En particular se tiene que para cada variable discreta $X_i$:\n",
        "\n",
        "$$E[X_i]=1\\cdot p + 0 \\cdot (1-p)=p$$\n",
        "$$\\begin{align*}\n",
        "V[X_i] &=E[X_{i}^2]-E[X_i]^2 \\\\\n",
        " &= (1^2\\cdot p+0^2\\cdot(1-p))-p^2\\\\\n",
        " &= p(1-p)\n",
        "\\end{align*}$$\n",
        "\n",
        "$i.e$ $$E[Z_N]=\\frac{4}{N}·Np=4p$$\n",
        "$$V[Z_N]=\\frac{16}{N^2}\\cdot Np(1-p)=\\frac{16p(1-p)}{N}$$\n",
        "\n",
        "Ahora podemos usar la desigualdad de Chebyshev:\n",
        "\n",
        "$$P(\\left | Z_N-E[Z_N] \\right | \\geq \\epsilon)\\leq \\frac{16p(1-p)}{\\epsilon^2 N}$$\n",
        "\n",
        "Ahora dado un valor  de $ϵ$ podemos calcular el valor de $N$.\n",
        "Supongamos que no conocemos $p$, analizamos pues que $0<p<1:$\n",
        "\n",
        "Ademas por el criterio de la segunda derivada notamos que:\n",
        "$$P'=p(1-p)$$\n",
        "tiene un maximo en $P'(\\frac{1}{2})=\\frac{1}{4}$.\n",
        "Esto implica que $p(1-p)<\\frac{1}{4}$\n",
        "\n",
        "Nos preguntamos ahora ¿cuantos dardos hay que lanzar para que la probabilidad de cometer un error mayor o igual que $0.1$ (P) sea menor que $0.01$ (ϵ).\n",
        "\n",
        "\n",
        "Para responder a esta pregunta debemos despejar N de la desigualdad de Chebyshev se tiene:\n",
        "$$N=\\frac{16p(1-p)}{\\epsilon^2P(\\left | Z_N-E[Z_N] \\right | \\geq \\epsilon)}$$\n",
        "$$N≈40000$$\n"
      ],
      "metadata": {
        "id": "rufUW1m1Rb19"
      }
    },
    {
      "cell_type": "markdown",
      "source": [
        "#Por simulacion:"
      ],
      "metadata": {
        "id": "BEWY7nFyN1QP"
      }
    },
    {
      "cell_type": "code",
      "source": [
        "import numpy as np\n",
        "import matplotlib.pyplot as plt"
      ],
      "metadata": {
        "id": "ghMXUqfpKl7T"
      },
      "execution_count": 46,
      "outputs": []
    },
    {
      "cell_type": "code",
      "source": [
        "N=1000"
      ],
      "metadata": {
        "id": "5kg6JdbaPNnX"
      },
      "execution_count": 47,
      "outputs": []
    },
    {
      "cell_type": "code",
      "source": [
        "def estimacion(N):  #Generamos una muestra\n",
        "    l=[]\n",
        "    exitos=0\n",
        "    for i in range(N):\n",
        "        u1=np.random.uniform()\n",
        "        u2=np.random.uniform()\n",
        "        if u2<=(1-u1**2)**(1/2): #funcion de una cuarta parte de un circulo\n",
        "            exitos=exitos+1\n",
        "        prob=exitos/(i+1)     #Calculo de la probabilidad del evento\n",
        "        l.append(4*prob)\n",
        "\n",
        "    return l"
      ],
      "metadata": {
        "id": "2GIDOQJvKhHG"
      },
      "execution_count": 48,
      "outputs": []
    },
    {
      "cell_type": "code",
      "source": [
        "G=estimacion(N)\n",
        "\n",
        "media=np.mean(G) #calculamos la media de las medias de la muestra\n",
        "desv=np.std(G)   #Calculamos el error estandar de la media\n",
        "#Graficamos un intervalo de confianza de un error estandar\n",
        "plt.axhline(media,color='r',linestyle='--') #media\n",
        "plt.axhline((desv+media),color='g') #limite superior del intervalo\n",
        "plt.axhline((-desv+media),color='g') #limite inferior del intervalo\n",
        "plt.plot(G)\n",
        "plt.show()"
      ],
      "metadata": {
        "colab": {
          "base_uri": "https://localhost:8080/",
          "height": 430
        },
        "id": "Lc7OfBE5KjMV",
        "outputId": "5c5af12e-eabf-4b65-92cf-4b071e1afd79"
      },
      "execution_count": 49,
      "outputs": [
        {
          "output_type": "display_data",
          "data": {
            "text/plain": [
              "<Figure size 640x480 with 1 Axes>"
            ],
            "image/png": "[encoded data removed]"
          },
          "metadata": {}
        }
      ]
    },
    {
      "cell_type": "markdown",
      "source": [
        "¿Cual valor de $N$ elegir?\n",
        "Se ve que una muestra $N\\approx 500$ da un resutado aceptable.\n",
        "\n",
        "Ademas para modificar la funcion y convertirla en una corrida de la simulacion: $l\\rightarrow l[-1]$ y fijamos N=500. Por ejemplo:"
      ],
      "metadata": {
        "id": "-zTXWPEjN9pZ"
      }
    },
    {
      "cell_type": "code",
      "source": [
        "N=500"
      ],
      "metadata": {
        "id": "MLCgMQfkPfFH"
      },
      "execution_count": 50,
      "outputs": []
    },
    {
      "cell_type": "code",
      "execution_count": 51,
      "metadata": {
        "id": "-NY7lGKyKeZ_"
      },
      "outputs": [],
      "source": [
        "def simulacion(M):\n",
        "  r=[]\n",
        "  for i in range(M):\n",
        "    R=estimacion(N)\n",
        "    r.append(R[-1])\n",
        "  return r"
      ]
    },
    {
      "cell_type": "code",
      "source": [
        "S=simulacion(1000)\n",
        "plt.hist(S, bins=50)\n",
        "plt.show()"
      ],
      "metadata": {
        "colab": {
          "base_uri": "https://localhost:8080/",
          "height": 430
        },
        "id": "Cx9EYwNeLD6i",
        "outputId": "96f809a6-9cb1-49ff-e1c5-a5275a5bdbee"
      },
      "execution_count": 52,
      "outputs": [
        {
          "output_type": "display_data",
          "data": {
            "text/plain": [
              "<Figure size 640x480 with 1 Axes>"
            ],
            "image/png": "[encoded data removed]"
          },
          "metadata": {}
        }
      ]
    }
  ]
}