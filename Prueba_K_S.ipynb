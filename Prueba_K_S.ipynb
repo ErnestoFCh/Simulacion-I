{
  "nbformat": 4,
  "nbformat_minor": 0,
  "metadata": {
    "colab": {
      "provenance": [],
      "authorship_tag": "ABX9TyNq99J+7J9ll91ykLijBanH",
      "include_colab_link": true
    },
    "kernelspec": {
      "name": "python3",
      "display_name": "Python 3"
    },
    "language_info": {
      "name": "python"
    }
  },
  "cells": [
    {
      "cell_type": "markdown",
      "metadata": {
        "id": "view-in-github",
        "colab_type": "text"
      },
      "source": [
        "<a href=\"https://colab.research.google.com/github/ErnestoFCh/Simulacion-I/blob/main/Prueba_K_S.ipynb\" target=\"_parent\"><img src=\"https://colab.research.google.com/assets/colab-badge.svg\" alt=\"Open In Colab\"/></a>"
      ]
    },
    {
      "cell_type": "markdown",
      "source": [
        "# **Prueba de Kolmogorov-Smirnov**\n",
        "El procedimiento Prueba de Kolmogorov-Smirnov para una muestra compara la función de distribución acumulada observada de una variable con una distribución teórica determinada, que puede ser la normal, la uniforme, la de Poisson o la exponencial. La Z de Kolmogorov-Smirnov se calcula a partir de la diferencia mayor (en valor absoluto) entre las funciones de distribución acumuladas teórica y observada. Esta prueba de bondad de ajuste contrasta si las observaciones podrían razonablemente proceder de la distribución especificada.\n",
        "\n",
        "Pasos.\n",
        "1. Se ordena de mayor a menor los numeros de, $x_i$.\n",
        "2. Calculamos $D^+, D^-$ y $D$.\n",
        "\n",
        "\n",
        "---$D^+=\\max_{1<i<n}\\left | \\frac{i}{n}-x_i \\right |$\n",
        "\n",
        "\n",
        "---$D^-=\\max_{1<i<n}\\left | x_i-\\frac{i-1}{n} \\right |$\n",
        "\n",
        "\n",
        "---$D=\\max\\left \\{ D^+,D^- \\right \\}$\n",
        "\n",
        "3.Comparamos con el valor $d_{\\alpha,n}$\n",
        "\n",
        "Se acepta si $D<d_{\\alpha,n}$\n",
        "\n",
        "\n",
        "\n",
        "\n"
      ],
      "metadata": {
        "id": "H2tnsfiQdxqP"
      }
    },
    {
      "cell_type": "code",
      "source": [
        "import math\n",
        "alp=0.05\n",
        "valores = [0.8797, 0.3884, 0.6289, 0.8750, 0.5999, 0.8589, 0.9996, 0.2415, 0.3808, 0.9606,\n",
        "    0.9848, 0.3469, 0.7977, 0.5844, 0.8147, 0.6431, 0.7387, 0.5613, 0.0318, 0.7401,\n",
        "    0.4557, 0.1592, 0.8536, 0.8846, 0.3410, 0.1492, 0.8681, 0.5291, 0.3188, 0.5992,\n",
        "    0.9170, 0.2204, 0.5991, 0.5461, 0.5739, 0.3254, 0.0856, 0.2258, 0.4603, 0.5027,\n",
        "    0.8376, 0.6235, 0.3681, 0.2088, 0.1525, 0.2006, 0.4720, 0.4272, 0.6360, 0.0954]"
      ],
      "metadata": {
        "id": "h-a91UA9cVqu"
      },
      "execution_count": null,
      "outputs": []
    },
    {
      "cell_type": "code",
      "execution_count": null,
      "metadata": {
        "id": "iiUu0zFzTNZH"
      },
      "outputs": [],
      "source": [
        "def resul(n,D):\n",
        "\n",
        "  d=(0.875897/math.sqrt(n)) #Calculamos d\n",
        "\n",
        "  if D<d:\n",
        "    print(\"No se rechaza Ho\")\n",
        "  else:\n",
        "    print(\"Se rechaza Ho\")\n",
        "  return"
      ]
    },
    {
      "cell_type": "code",
      "source": [
        "def Dmas(D):\n",
        "  K=[]\n",
        "  n=len(D)\n",
        "  j=1\n",
        "  for i in D:   #Estas lineas de calculan el valor maximo de D+\n",
        "    K.append(abs(j/n-i))\n",
        "    j=j+1\n",
        "\n",
        "  MAX1=max(K)\n",
        "  print(\"D+: \",MAX1)\n",
        "  L=[]\n",
        "  a=1\n",
        "  for k in D:                    #Estas lineas de calculan el valor maximo de D-\n",
        "    L.append(abs(k-(a-1)/n))\n",
        "    a=a+1\n",
        "\n",
        "  MAX2=max(L)\n",
        "  print(\"D-: \",MAX2)\n",
        "  M=[MAX1,MAX2]\n",
        "  return M"
      ],
      "metadata": {
        "id": "kKr8fyC6Wv7Y"
      },
      "execution_count": null,
      "outputs": []
    },
    {
      "cell_type": "code",
      "source": [
        "D=sorted(valores)"
      ],
      "metadata": {
        "id": "IDaNSU-zVxbA"
      },
      "execution_count": null,
      "outputs": []
    },
    {
      "cell_type": "code",
      "source": [
        "M=Dmas(D)\n",
        "K=max(M)\n",
        "n=len(valores)\n",
        "\n",
        "resul(n,K)"
      ],
      "metadata": {
        "colab": {
          "base_uri": "https://localhost:8080/"
        },
        "id": "U04XzehHbQV1",
        "outputId": "3dd4a9e4-4bd5-4924-fdc9-7b4881c105dc"
      },
      "execution_count": null,
      "outputs": [
        {
          "output_type": "stream",
          "name": "stdout",
          "text": [
            "D+:  0.07879999999999998\n",
            "D-:  0.09879999999999997\n",
            "No se rechaza Ho\n"
          ]
        }
      ]
    }
  ]
}