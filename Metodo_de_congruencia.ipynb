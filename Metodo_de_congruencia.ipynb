{
  "nbformat": 4,
  "nbformat_minor": 0,
  "metadata": {
    "colab": {
      "provenance": [],
      "authorship_tag": "ABX9TyPOj8KU/cT4oKMPys98lPKb",
      "include_colab_link": true
    },
    "kernelspec": {
      "name": "python3",
      "display_name": "Python 3"
    },
    "language_info": {
      "name": "python"
    }
  },
  "cells": [
    {
      "cell_type": "markdown",
      "metadata": {
        "id": "view-in-github",
        "colab_type": "text"
      },
      "source": [
        "<a href=\"https://colab.research.google.com/github/ErnestoFCh/Simulacion-I/blob/main/Metodo_de_congruencia.ipynb\" target=\"_parent\"><img src=\"https://colab.research.google.com/assets/colab-badge.svg\" alt=\"Open In Colab\"/></a>"
      ]
    },
    {
      "cell_type": "code",
      "execution_count": 40,
      "metadata": {
        "colab": {
          "base_uri": "https://localhost:8080/"
        },
        "id": "7tvbAalh4FSA",
        "outputId": "bb435b32-a5e4-4a83-f9fe-33c2f4266136"
      },
      "outputs": [
        {
          "output_type": "stream",
          "name": "stdout",
          "text": [
            "xo: 6 a: 5 c 5 m 16\n",
            "  i    xn    5xn+5    5xn+5,(mod16)    xn/16\n",
            "---  ----  -------  ---------------  -------\n",
            "\n",
            "  0     6       35                3    0.375\n",
            "  1     3       20                4    0.188\n",
            "  2     4       25                9    0.25\n",
            "  3     9       50                2    0.562\n",
            "  4     2       15               15    0.125\n",
            "  5    15       80                0    0.938\n",
            "  6     0        5                5    0\n",
            "  7     5       30               14    0.312\n",
            "  8    14       75               11    0.875\n",
            "  9    11       60               12    0.688\n",
            " 10    12       65                1    0.75\n",
            " 11     1       10               10    0.062\n",
            " 12    10       55                7    0.625\n",
            " 13     7       40                8    0.438\n",
            " 14     8       45               13    0.5\n",
            " 15    13       70                6    0.812\n",
            " 16     6       35                3    0.375\n",
            " 17     3       20                4    0.188\n",
            " 18     4       25                9    0.25\n",
            " 19     9       50                2    0.562\n",
            " 20     2       15               15    0.125\n",
            " 21    15       80                0    0.938\n",
            " 22     0        5                5    0\n",
            " 23     5       30               14    0.312\n",
            " 24    14       75               11    0.875\n",
            " 25    11       60               12    0.688\n",
            " 26    12       65                1    0.75\n",
            " 27     1       10               10    0.062\n",
            " 28    10       55                7    0.625\n",
            " 29     7       40                8    0.438\n",
            " 30     8       45               13    0.5\n",
            " 31    13       70                6    0.812\n",
            " 32     6       35                3    0.375\n",
            " 33     3       20                4    0.188\n",
            " 34     4       25                9    0.25\n",
            " 35     9       50                2    0.562\n",
            " 36     2       15               15    0.125\n",
            " 37    15       80                0    0.938\n",
            " 38     0        5                5    0\n",
            " 39     5       30               14    0.312\n",
            " 40    14       75               11    0.875\n",
            " 41    11       60               12    0.688\n",
            " 42    12       65                1    0.75\n",
            " 43     1       10               10    0.062\n",
            " 44    10       55                7    0.625\n",
            " 45     7       40                8    0.438\n",
            " 46     8       45               13    0.5\n",
            " 47    13       70                6    0.812\n",
            " 48     6       35                3    0.375\n",
            " 49     3       20                4    0.188\n",
            " 50     4       25                9    0.25\n",
            " 51     9       50                2    0.562\n",
            " 52     2       15               15    0.125\n",
            " 53    15       80                0    0.938\n",
            " 54     0        5                5    0\n",
            " 55     5       30               14    0.312\n",
            " 56    14       75               11    0.875\n",
            " 57    11       60               12    0.688\n",
            " 58    12       65                1    0.75\n",
            " 59     1       10               10    0.062\n",
            " 60    10       55                7    0.625\n",
            " 61     7       40                8    0.438\n",
            " 62     8       45               13    0.5\n",
            " 63    13       70                6    0.812\n",
            " 64     6       35                3    0.375\n",
            " 65     3       20                4    0.188\n",
            " 66     4       25                9    0.25\n",
            " 67     9       50                2    0.562\n",
            " 68     2       15               15    0.125\n",
            " 69    15       80                0    0.938\n"
          ]
        }
      ],
      "source": [
        "from tabulate import tabulate\n",
        "xo=6\n",
        "a=5\n",
        "c=5\n",
        "m=16\n",
        "k=a*xo+c\n",
        "print(\"xo:\",xo,\"a:\",a,\"c\",c,\"m\",m)\n",
        "tabla=[[]]\n",
        "\n",
        "for i in range(70):\n",
        "\n",
        "\n",
        "    k=a*xo+c\n",
        "    modulo=k%m\n",
        "    tabla.append([i,xo,k,modulo,round(xo/m,3)])\n",
        "    xo=modulo\n",
        "\n",
        "print(tabulate(tabla,headers=[\"i\",\"xn\",\"5xn+5\",f\"5xn+5,(mod{m})\",f'xn/{m}']))"
      ]
    }
  ]
}