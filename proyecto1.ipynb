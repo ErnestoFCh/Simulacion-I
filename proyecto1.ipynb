{
  "nbformat": 4,
  "nbformat_minor": 0,
  "metadata": {
    "colab": {
      "provenance": [],
      "authorship_tag": "ABX9TyM5YAFq5qQXbCZvAtGa4cI+",
      "include_colab_link": true
    },
    "kernelspec": {
      "name": "python3",
      "display_name": "Python 3"
    },
    "language_info": {
      "name": "python"
    }
  },
  "cells": [
    {
      "cell_type": "markdown",
      "metadata": {
        "id": "view-in-github",
        "colab_type": "text"
      },
      "source": [
        "<a href=\"https://colab.research.google.com/github/ErnestoFCh/Simulacion-I/blob/main/proyecto1.ipynb\" target=\"_parent\"><img src=\"https://colab.research.google.com/assets/colab-badge.svg\" alt=\"Open In Colab\"/></a>"
      ]
    },
    {
      "cell_type": "code",
      "execution_count": null,
      "metadata": {
        "colab": {
          "base_uri": "https://localhost:8080/"
        },
        "id": "Ikv3mDGhJ0nb",
        "outputId": "a77f33e8-f3b2-415d-a819-b67fc57a3970"
      },
      "outputs": [
        {
          "output_type": "stream",
          "name": "stdout",
          "text": [
            "Ingrese un numero entero de cuatro digitos:3001\n",
            "60\n",
            "600\n",
            "6000\n",
            "6000\n",
            "6000\n",
            "6000\n",
            "6000\n",
            "6000\n",
            "6000\n",
            "6000\n",
            "6000\n",
            "6000\n",
            "6000\n",
            "6000\n",
            "6000\n",
            "6000\n",
            "6000\n",
            "6000\n",
            "6000\n",
            "6000\n"
          ]
        }
      ],
      "source": [
        "n=int(input(\"Ingrese un numero entero de cuatro digitos:\"))\n",
        "str(n**2)\n",
        "if len\n",
        "for i in range (20):\n",
        "\n",
        "  k=str(0)+str(n**2)\n",
        "  n=int(k[2:6])\n",
        "  print(n)\n",
        "\n",
        "\n",
        "\n",
        "\n",
        "\n",
        "\n",
        "\n",
        "\n"
      ]
    },
    {
      "cell_type": "code",
      "source": [
        "9999**2"
      ],
      "metadata": {
        "colab": {
          "base_uri": "https://localhost:8080/"
        },
        "id": "GNe-e3RnRIc3",
        "outputId": "a6f7aa80-1f3a-4b1b-a239-57569a756bf9"
      },
      "execution_count": null,
      "outputs": [
        {
          "output_type": "execute_result",
          "data": {
            "text/plain": [
              "99980001"
            ]
          },
          "metadata": {},
          "execution_count": 51
        }
      ]
    }
  ]
}