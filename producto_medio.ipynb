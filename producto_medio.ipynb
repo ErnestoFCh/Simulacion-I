{
  "nbformat": 4,
  "nbformat_minor": 0,
  "metadata": {
    "colab": {
      "provenance": [],
      "authorship_tag": "ABX9TyPJF9Nkd7AY4oJxk3K6CeFO",
      "include_colab_link": true
    },
    "kernelspec": {
      "name": "python3",
      "display_name": "Python 3"
    },
    "language_info": {
      "name": "python"
    }
  },
  "cells": [
    {
      "cell_type": "markdown",
      "metadata": {
        "id": "view-in-github",
        "colab_type": "text"
      },
      "source": [
        "<a href=\"https://colab.research.google.com/github/ErnestoFCh/Simulacion-I/blob/main/producto_medio.ipynb\" target=\"_parent\"><img src=\"https://colab.research.google.com/assets/colab-badge.svg\" alt=\"Open In Colab\"/></a>"
      ]
    },
    {
      "cell_type": "code",
      "execution_count": 1,
      "metadata": {
        "colab": {
          "base_uri": "https://localhost:8080/"
        },
        "id": "qwZfgSH3lnqT",
        "outputId": "b19c55e6-3cf3-495e-b8c3-2a21f8975bdf"
      },
      "outputs": [
        {
          "output_type": "stream",
          "name": "stdout",
          "text": [
            "  i    xn-1    xn    (xn-1)(xn)\n",
            "---  ------  ----  ------------\n",
            "\n",
            "  0     289   310         89590\n",
            "  1     310   959        297290\n",
            "  2     959   972        932148\n",
            "  3     972   321        312012\n",
            "  4     321   120         38520\n",
            "  5     120   852        102240\n",
            "  6     852    22         18744\n",
            "  7      22   874         19228\n",
            "  8     874   922        805828\n",
            "  9     922    58         53476\n",
            " 10      58   347         20126\n",
            " 11     347    12          4164\n",
            " 12      12   164          1968\n",
            " 13     164   968        158752\n",
            " 14     968   587        568216\n",
            " 15     587   682        400334\n",
            " 16     682     3          2046\n",
            " 17       3    46           138\n",
            " 18      46    38          1748\n",
            " 19      38   748         28424\n",
            " 20     748   842        629816\n",
            " 21     842   298        250916\n",
            " 22     298   509        151682\n",
            " 23     509   516        262644\n",
            " 24     516   626        323016\n",
            " 25     626   230        143980\n",
            " 26     230   439        100970\n",
            " 27     439     9          3951\n",
            " 28       9   951          8559\n",
            " 29     951   559        531609\n",
            " 30     559   316        176644\n",
            " 31     316   766        242056\n",
            " 32     766   420        321720\n",
            " 33     420   217         91140\n",
            " 34     217   114         24738\n",
            " 35     114   473         53922\n",
            " 36     473   392        185416\n",
            " 37     392   854        334768\n",
            " 38     854   347        296338\n",
            " 39     347   963        334161\n",
            " 40     963   341        328383\n",
            " 41     341   283         96503\n",
            " 42     283   650        183950\n",
            " 43     650   839        545350\n",
            " 44     839   453        380067\n",
            " 45     453   800        362400\n",
            " 46     800   624        499200\n",
            " 47     624   992        619008\n",
            " 48     992   190        188480\n",
            " 49     190   884        167960\n"
          ]
        }
      ],
      "source": [
        "from tabulate import tabulate\n",
        "x1=289\n",
        "x2=310\n",
        "tabla=[[]]\n",
        "for i in range(50):\n",
        " tabla.append([i,x1,x2,x1*x2])\n",
        " j=len(str(x1*x2))/2\n",
        "\n",
        " if type(j)==int:\n",
        "  k=str(0)+str(x1*x2)\n",
        "  x1=x2\n",
        "  x2=int(k[2:5])\n",
        "\n",
        " else:\n",
        "  k=str(x1*x2)\n",
        "  x1=x2\n",
        "  x2=int(k[1:4])\n",
        "\n",
        "print(tabulate(tabla,headers=['i','xn-1','xn','(xn-1)(xn)']))"
      ]
    }
  ]
}