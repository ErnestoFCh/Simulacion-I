{
  "nbformat": 4,
  "nbformat_minor": 0,
  "metadata": {
    "colab": {
      "provenance": [],
      "authorship_tag": "ABX9TyPJF9Nkd7AY4oJxk3K6CeFO",
      "include_colab_link": true
    },
    "kernelspec": {
      "name": "python3",
      "display_name": "Python 3"
    },
    "language_info": {
      "name": "python"
    }
  },
  "cells": [
    {
      "cell_type": "markdown",
      "metadata": {
        "id": "view-in-github",
        "colab_type": "text"
      },
      "source": [
        "<a href=\"https://colab.research.google.com/github/ErnestoFCh/Simulacion-I/blob/main/producto_medio.ipynb\" target=\"_parent\"><img src=\"https://colab.research.google.com/assets/colab-badge.svg\" alt=\"Open In Colab\"/></a>"
      ]
    },
    {
      "cell_type": "code",
      "execution_count": null,
      "metadata": {
        "id": "qwZfgSH3lnqT"
      },
      "outputs": [],
      "source": [
        "from tabulate import tabulate\n",
        "x1=289\n",
        "x2=310\n",
        "tabla=[[]]\n",
        "for i in range(50):\n",
        " tabla.append([i,x1,x2,x1*x2])\n",
        " j=len(str(x1*x2))/2\n",
        "\n",
        " if type(j)==int:\n",
        "  k=str(0)+str(x1*x2)\n",
        "  x1=x2\n",
        "  x2=int(k[2:5])\n",
        "\n",
        " else:\n",
        "  k=str(x1*x2)\n",
        "  x1=x2\n",
        "  x2=int(k[1:4])\n",
        "\n",
        "print(tabulate(tabla,headers=['i','xn-1','xn','(xn-1)(xn)']))"
      ]
    }
  ]
}