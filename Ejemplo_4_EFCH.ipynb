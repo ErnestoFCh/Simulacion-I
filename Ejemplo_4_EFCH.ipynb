{
  "cells": [
    {
      "cell_type": "markdown",
      "metadata": {
        "id": "view-in-github",
        "colab_type": "text"
      },
      "source": [
        "<a href=\"https://colab.research.google.com/github/ErnestoFCh/Simulacion-I/blob/main/Ejemplo_4_EFCH.ipynb\" target=\"_parent\"><img src=\"https://colab.research.google.com/assets/colab-badge.svg\" alt=\"Open In Colab\"/></a>"
      ]
    },
    {
      "cell_type": "markdown",
      "id": "c21e5530",
      "metadata": {
        "id": "c21e5530"
      },
      "source": [
        "# Ejemplo: Flecha y cojinete"
      ]
    },
    {
      "cell_type": "markdown",
      "id": "61f9bd36",
      "metadata": {
        "id": "61f9bd36"
      },
      "source": [
        "Una flecha será embonada en un cojinete como se muestra a continuación\n",
        "\n",
        "![goma.png](data:image/png;base64,iVBORw0KGgoAAAANSUhEUgAAAk0AAACQCAYAAAAVxV+AAAAAAXNSR0IArs4c6QAAAARnQU1BAACxjwv8YQUAAAAJcEhZcwAADsMAAA7DAcdvqGQAAEVBSURBVHhe7d0H2GRFlTdwERBYQDDAoARdJSnoEERhQImKiTBkCZLRQYLMMOAMYYFhXLKkIQeJoogIipKDRElDVkAYF0QlmFjU1d31fs+vvrdmL23H9+3b3cOc//Ocp7tv1723bt2qU/86derUm4pAIBAIBAKBQEsEaQoEAoFAIBBoA0GaAoFAIBAIBNpAkKZAIBAIBAKBNhCkKRAIBAKBQKANBGkKBAKBQCAQaANBmgKBQCAQCATaQJCmQCAQCAQCgTYQpCkQCAQCgUCgDQRpCgQCgUAgEGgDQZoCgUAgEAgE2kCQpkAgEAgEAoE2EKQpEAgEAoFAoA0EaQoEZiP8z//8T/G///u/Q78CgUAg0AmCNAUCsxGeeeaZ4qWXXhr6FQgEAoFOMJCk6Q9/+EPxm9/8pvjtb3/bkbz44ovFr371q+K+++4rnn322eKpp54q7rrrruLuu+9Onz//+c9Th1Hv3HbEuTNmzEjXy9d89NFH03/undP5Lv+PPPJISnPPPff0XOTvzjvvbCl33HFHKhf5fv7554t77703HatN41mU7U9/+tN/+v+NIsrshhtuKC6++OLiggsuKK6//vqm5fj9738/pbvooosGRi655JLi1FNPLaZMmVIceeSRM2Xq1KnFEUccUXz5y18uDjnkkOLWW28t/vu//3uoxQUCgUCgHQwMaaLAf//73yeic/bZZxeHH354UvwUve8+W4n0kydPLrbccsti/PjxxV577VVsvPHGxSabbJI+dRj5msMRnc+ECRPS9fI1d9lll5S/ww47bGY+3cPvHXfcMaXZdNNNG0q+Tr3/hiuut9lmmxU77bRTyt/OO+/cUKSR19NPP7044YQTinHjxqXj5fOkmThxYnHiiSemMvQ7//dGkt122y2V20orrVSssMIKxdixY9OxemmVz7rrrlt86EMfKkaPHj0wsvLKKxejRo0q3vSmNzWUBRZYoNh3332Lv/71r0OtLxAIBALtoO+kCVmivB977LHiwgsvLPbff//ife97X/Ev//IvxaKLLlq8613vKt797ne3LdI7b7HFFkviexa/653TidReUwe1+OKLF0sttVSxxBJLzEwnH/4rp62VRRZZZObz1ft/JLL88ssn8rT55psnItBMkAOCbEqfiVw5jeP+Lx97I4py8OzE93ppsuRyGjTZaKONis9+9rMzxe+Pf/zjiSzNMcccqc4dfPDBQZoCgUCgQ/SVNL322mvFww8/XHz7298utt1220Q83v72t6fRsBEza9HJJ5+cphtOOeWUtkX6LNOmTZspnV6nntReU/7OO++84rbbbisuvfTS4qSTTmqYtlaca4rn5ptvTpaeVunbEff9zne+U9x///3FE088UfzsZz9rKddcc01xxRVXpCk4v6+99tri6quvTkQ2p3Gtxx9/vO1rzspiupLU+68sOd2gyZNPPvk6efrpp9OUKgvZwgsvXHz4wx8uzj///OJvf/vbUEsMBAKBQDvoG2l6+eWXi6uuuipNZX3mM58pllxyyWTFWXXVVdMU05lnnpkI1a9//evkb8NHaBDlhRdeSD5YgAT6XS9dPZE2d1z8oDxrvXSdiGv85S9/SddsF6+++mrxu9/9buhXUfznf/7nzGcKvDHgfR500EHJurnaaqsVl19+efH3v/996N9AIBAItIO+kCad+znnnFOst956xTLLLFMsuOCCSZGbMvjud79bTJ8+PRGQQCDQHSDFxx57bJoKNjBh3Q3SFAgEAp2h56SJoj7rrLOKtdZaq3jzm99czDfffMXqq69eHHXUUWk6yP//+Mc/hlIHAoFugPXRtO373//+YpVVVgnSFAgEAsNAT0kTx9MHH3wwOaXONddcyWF5hx12SMu8TcGFj0UgUA1eeeWV4utf/3pyAg9LUyAQCAwPPSNNohCLH7TrrrsWc845Z5qS850DdSjvQKBa8HUTLuMd73hH8clPfrK4/fbbI05TIBAIdIiekKb/+q//SsEAt9tuu2LuuedODt9W8ggcGFNxgUD14NN09NFHpzAYW2+9dVpRZ0uVQCAQCLSPykkTK5Jl0IIiCiUw77zzFl/60pcSiQoEAr2BqfErr7wy+TRtscUWKYhskKZAIBDoDJWSJhYmYQNEyl5xxRWLt771rSkek604Ol0WHwgEhg9tUeytpZdeOkhTIBAIDBOVkiaxYTiffuADH0iEacyYMSn+kjhAgUCgd9AWBV4VckBk9yBNgUAg0DkqI01//OMf04anVsrZEkUUYvuy2RA2VskFAr2F1akHHnhgiri/1VZbBWkKBAKBYaAy0mR1jqk4FiZTAgJX/uIXvwhFHQj0AUjTpEmT0uq5IE2BQCAwPFRGmr73ve+lKN/zzz9/scEGG0RcmECgjwjSFAgEAiNH10mTEAJ8lg455JBkZVp22WWLs88+OyntQCDQHwRpCgQCgZGj66SJIrYTvhU6c8wxR/G5z30uhRwIBAL9Q5CmQCAQGDm6TppEGbbp7kc/+tFi4YUXLiZPnlw8//zzQ/8GAoF+IEhTIBAIjBxdJ038lo4//vhi8cUXT/tcnXvuuWm5cyAQ6B+CNAUCgcDI0VXSRAmbihMHZqGFFio+9alPpeCWscdVINBfvPTSS8VBBx0UpCkQCARGgK6SJlG+rZpbYYUV0v5yX/va14ZtZRLB+E9/+lPx2muvpd9iO4n9lH/PauAcP9JO6s9//nPa+LgXcJ9BKmv1wfsnr776avrsJN6X8s/pfW9UjhYyuD5Rd5V5u1D/651TLkt1QL12/UYwyMh5kNYWKGWw5uZyaFSn3NO5RH6QpK985Stpytzec2XSJN/5euX71gtC61rlsvdcfpdXxuZ35TquIY3vjme4t2P+I+X3UxVcv/xuan93Cufn5/PpedpdIZzPyc9ftdh78LnnnptZP+ulaSavvPJK8R//8R/FL3/5y5nyq1/9Kj3zb37zm+LFF1+se14W9/z973+frjFjxozi5ZdfrpuunignG047r3z/WvH/Cy+88Lp6RfzmImLgUPvsyqX2uWrFc2oPnrP2P8+tTJVt+bhrNiprz0Mg93PySHpZJ6oW7zuXi/ed33+5nLopri2s0fTp04v7778/+VarN/LSTXSVNKmAU6dOTdNyfJouvPDCVCE6BWXkoa+44orixz/+cfHss8+mver4Sl133XWpYTRSTjo9nYz7ekkqbha/KXOdRDPy4Roqs+dR6ESDyQ29GfwvbT7HtIgXee2116YK1C5xkj+NKOfZdW688cZUIfxuBvfQWD2zRp3zQii/cucFylK+czm5PouhPLtvO52Z++XnJu4r/402ZPZfTus8ZZsVSRn5XagPV111VaoPPtWF++67L12n1buUN/XHNX72s5+la1CEteepNzaytd2Ifdp+8IMfFA888EA6Xn6OnCdlmZWm92R7IOfdcMMN6bj34B7qq3qrHj/44INpYOEZPHvtuwDl8f3vfz+JtDa2LqdznmdwLx1FvTqljgsu6z4//OEPUyT+NdZYo5hrrrmKbbbZJpGm/Py+e1b3k96na//oRz8qnnnmmZl1R/49h3Z51113pf/kI+cxv//bbrstHXON73znO0m+9a1vpbTagA7slltuKS699NIUioT4fuutt6Y216jODAeeMesD9UWZ5DrnGW666ab0XT3Pz9lIvG/11Hf1R3v0XJdddll6BuWiHHTO2lC996KdPf7446lM8nlVi3udccYZxQEHHFCcd955xeWXX143XSNx/qmnnlpMmDCh2G+//Yrx48cXX/3qV1PsPe9N0OJjjjkmpat3PnFPdXD//fdP537jG99omj5LLqcpU6YU++yzT7p3I9l3332LQw89NOUpX9vnRRddlHxr3VO9zNeWp9NOO62YOHHizOeqFcc95ze/+c3iyCOPTHkv/3fcccclFxSBY/M1fHpOq8Zry9qzEG2BzqDPtZPc7ui1XtWLKiW/71y2J598cvpdrkPDEeeT2t/EvfbYY49inXXWSbqORV29Uabad7sDmlboKmmijHbYYYdi7rnnLjbddNMU/bt2lNwKFI2OTeX/7Gc/m67zhS98odh8882Lz3/+80nhKwhEpB508JQjwnbiiSeml5XF73POOae45557UkfaDI888khx1FFHpfu5//bbb598QnRAzUApC+rpnO222y6dZ2RPNF4KtR3I3yWXXJL8wygsSsl1P/OZzxRnnXXWUKr60GHrDCiEPffcMz2Dc72bww47rHjooYeGUv5/YOga8bRp09JWG+7nWU2zuu9jjz02lLIxdIKe13MTCk7DaUS4KIZctvJG6VAetXC+KV6Ka6eddkqhLOTr05/+dNoEWpk2I7KImHro2eRps802S+dr2DrBMnT2nnuTTTZJqz4pSAqRYiuTFnUa+VGWe+2118z6deyxx6bNqL1rdc17QAIobs+pEZONNtqo2HjjjYt///d/T9epBfIlD9JpAxSwd5YbvU7XVJs08oeU1UKnbQCj/mlDFInI/DbNVt7IYSZNP/nJT4q99947XU++8mdue95rfrdjx45N/ylDx6Tx22rZnE4ZS7f++usX//qv/1q8973vLZZccsm0K4DzPvaxjxXvec97kt9jllGjRhXrrrtucfrpp7ccmHQC7x+R0emxtHk2eVQuuV3svvvuqW45lp+hLOW2ox465tzRo0enASJZaqmlivXWWy+9X23Oc9CHtdA50mOeX5ksscQS6fmdXxb/lctnpKJ8uUyYAaj3fytZdNFF0/nCyGR529velrbl8fnOd76z7nllcW9pnbvIIovUTdNIRLIv37uRuH7tud4PC6t75vLOUu+5asU1XaNeHjy356q9RqOydp1lllkm1SmDK9uMaefai7a00korpTS1582Kkuuc8lDO5d+14v2Qev9l8b93QVyn/Jvk92NgOOeccyZ9553bxk0/1q1V/F0lTUZfXj7FTKkwj7VjpSjDKNNIjpVDh3D++eenTyMkcvHFF6cOvhH5MLXBVEdRIg4333zzTPH7jjvuSCPmVvnyLPKAZBH31qk/+uijQynqwzPnc+Sb+K5zz5aRdiB/OnsNCyFBxpAoREgn1wzuoYIYuRt1GfHkZ2BRqF3NqGNHjKRXRu4nnTy7b71OuRY6ekTXiNa9kCKWnUb+bMoi54sYASIntXC+d+GdIx/KQ76c43etFaYWCI76gCi7B8KJUCMrtZatJ598MlmZcp1DkOVTeZWfw3cWE2XE0qBuKTOkSx1xfce8BwTAc6m3ntc7cH3CauM6tUCKkENlKR/yVM4DMua9IAKei6WrFp7b+5Q/6RAoHbUwILWkSfm4h3Tl/OVyKItj0iGFSIRncsx5OY3vyuDoo48uPvGJTxRvectbUkegczAi3GWXXV5HxjIJQQTludn77BSupb2zKhlx5nzKM9L9wQ9+MHViyK/BQn6GspTbDtLjmHpkxJyfA6nybJ7h3/7t31KaeqSJtYKC13nrIHWUBoSrr756IpP50/ZTCFgjItepuI48Dvd6+fxa8Z/PVteVRt+w9tprp0FFPrddkf6LX/xi+mwljc6vl8dGz1UrjdI53uy/2vupL+oafcA4QD+zAOY6Y/BY2zZmVSmXS7Ny8l4FwCb5d700Bmdjxowp1lxzzdRm/GZRcqwsa621VtI73IQWWGCBxEcM2OgrOn6k6Dpp8jAUs4ahI+6UNAVmTei4a8lYYHhA5ky7dROIlk7Y6AtBGakjuHbd6n0jjUZ4rCasMBdccEHqKFg2PV9ZEBvkvZdgsTZiNUI95ZRTWk5718L0inznZ2D9RkYpZlJrzfZeWbXmnXfeZDFm/TQIoyeR7TylaZrP1Khr1CurWVEMDlhLPZeB5RvluToVU9plC7fpXgNc5QHaTLlOzQ5i0Gaqm3h2v+ulYUTQRkxjmgnyW1vRZmrFINDADrEySEGcDBoNRrXRRoP5dhCkKdAVsBBmy0VgZMhl2U3fHtZbI9purZ6Tt2bn+989WGOY5llPWKUQiXxuWTxvr+oPhckKyvJFmS644ILFrrvumqx2neQh57n2WbKU35909CH9aPTrHVD8IK2p17LIY+313gjyRn2uTqRcx3L9ycfUmWZ16o0onle9yHWj3vPnNLl9OFb+XSv+R9RZxblaZIuTqbrDDz88zZ6U22cnCNIUCMwG4AjJGbZXIQdYYUyBsTLxLzDKQ9o4qPcb8mCq296YFOk888yTzPqmvina4SrTZqD0+eYZ+Zqao7jpy0AgUA20OW3MFCh/Sf5OrMp8Clk86ajhoOukyRw9RRSkKRAYHCBNvQxuaQqGAzunTPrAlBTnfVNOlFk/wdplxRcndXl785vfnBx6d9ttt+L222+vJH+uybJEP7oXx3tTNYFAoDrQcXgJX0S+UZzRDeS4DZj2Gw66SppMAeQ5e4o5SFMgMBjoNWmyiMLKP1YmxISwsFhl2O4K0irAisSvism+nDfCMduyaGb/biOTJisL6Uf3px8DgUBvYCGINq6tW9nLP6rVKvp66CppYu6yjJoPgyXIQZoCgcFAr0mTVXurrrpqmvrifM7iNN9886XpKVaofsFqOoTOdBwHUY7gOY8rrrhiGoHyieg2yqQp+zT1sxwCgdkNVlpbwSckErGKcThhCLpOmigdJrAgTYHA4KDXpEnoCrGPLAmmqD70oQ8lRWXVmJAK/QLyYsWSUaZQApZ6W6JsibQ4W0ITVDk9J06UGDbum1dMBQKB6iEMi3bP2iQMyoYbbph8mzpF10mT2CxBmgKBwUKvSVM5MrglwkZ1AlsKeDpcB8xuQogMo0zxxPheiQPGx0jYgaocwZEmljbBPkWSbif+WSAQ6B6EvTBAmn/++RNPEcCYu0AnU/KVTc9RkMzPQZoCgf6j16SpDNYbvkKCQw4SkCTTiGI01UaH7zbKpMlKQhb5WD0XCPQW/K4FRWb55tv0kY98JAVMrg103AxdJU1GbyeccEKK/mvuHqvrZnTfQCAwPPSLNDGJi89kWxH6oFdErR0IRok0CYJHmVaJIE2BwGCAIceuBEIQWEHL0NNJ3KaukiYK8pprrkksznYAFFInDC4QCFSDfpEm7V98JlsYIA1BmoI0BQL9hLbIf9EWSlbQ+hRFvF2u0lXShMFxAF155ZXT8mJ7kfV6a4RAIPDPKJMm/oaW3feKNNko172DNAVpCgT6DRYl/tb2nrQbgNWz4rbZqqUddJU0UYj2UjI1ZwdiK0WqVkaBQKA1MmkSEZdp2goyHXnVsGHxPvvsk+4tInaQpiBNgcAgwKbiq6yySrI22ST5gQceGPqnObpKmoC1CWujnO3zYnO8QCDQXyBNX/va11JsIgSmV+BgzdJkib3VakGagjQFAoOAW2+9NVndc2DbH/7wh20NJCshTfZVMg3AyUochHAGDwT6izJp8tkL2OPtzjvvTHGaxEQatJW0QZoCgdkXDDoTJkxIpEnA2SOPPLJ4/vnnh/5tjEpIEwXJyiT0AOXw4osvDv0bCAT6AW3woIMOShbgXpGmV199NUXf5nhug9xBQ79I01JLLVV8/etfb0tBBwKBamDQwu8aaSITJ05Me2O2QtdJkyBRt9xyS7HBBhukbRNsghkbUwYC/YUOOjs+9mp6jhP49ddfnzbvvvjii4eODg6MNJG5b3zjGz0jTRtttFGxzDLLpDAMrH+BQKA/eO6554rJkycnwmTTboPJdtyJuk6aKAfKYNy4cWm/qY9+9KPJRB8IBPoHI6h11103KQeKohcYdNJkGxPRysWQqtoankmTTYxXW2214o477khO8oFAoD/AU6ZOnVrMMccciavst99+bW2i3XXSlEERLbnkkilUue9W6wQCgf4AaVpnnXWCNJVgY95nn322uPHGG9P2KVWiljQZSA5nh/VAINAdCD1w9dVXF+973/vSht1W/XMGb4XKSBNF9LnPfS5F3TTCFTwqEAj0B9nSxBQd03P/B8TJ9k+d7D01HMT0XCAweLA/5ujRo9NedDYTt8VKK1RGmsRkGT9+fLHQQgulDBndWkVXxWaYgUCgOSz3X3/99dPqOSbpXmBWIE29Qpk0Lb300sUZZ5xRuR9VIBBoDv7XdjAZCNJkOo6iXG655dLollma0jCyCwQCvYUI4J/+9KfT1NC55547dLRaBGn6P5Sn52wS+pOf/CSVTyAQ6B8yaRJyYNNNN03Tda1QGWliUbKkd//9908ZEnnzqquuSvvTBQKB3iKTJntCnn/++UNHq0WZNF166aVDR2dP1JKmcAQPBPoP03OZNO29996pjbZCZaQJxGlh7hLkkm+TIHcPPvhg5f4DgUDg9TA9JwzIIossknb17gWQphtuuCFtUXD88cen6SjkYXZELWm6/fbbgzQFAn3EH/7whzSYEw0caWLgsZF5K1RKmpAjI9xtt902zRlS2IK6Vb1SJRAIvB4cwfk02RNyypQpQ0erBdJ03XXXFdtss02KgWJvp0HaRqWXCNIUCAwWhBwRfNsq/3e9613Fcccd11bokUpJE4gQ/r3vfS8pC8RpjTXWKH7605+Gb1Mg0EPk6Tkdtoj9vYAl9cjBrrvumgZLiFuQpiBNgcAggPV93333TT7XH//4x4ubbrpp6J/mqJw0URYCRtmwM0/TCSJlmi4QCPQGmTQJNnveeecNHa0W/Bot5z/ppJPSHpSz80ApSFMgMDigm+jBD3/4w8Xcc8+dBnbt+DNB5aRJ5vg2ibybg+sJJmXZsznFQCBQPTJp+tjHPtYz0gTav3vP7svrgzQFAoMDU3O2lRLU0gzY0Ucf3fZekJWTpoxf//rXaY8nS56Zw4x4r7jiiqRMZ1eTfSDQKzBFf/KTnyze+973pnYY6C2CNAUCgwEDuR/84AfFJz7xicRFPvjBD6YFK+JItoOekSawq/App5ySHK/e8Y53FNttt11x+eWXh2N4IFAx+BOtt956aWR12GGHDR0N9ApBmgKBwYC2eMIJJySyJPi2Vf0zZswY+rc1ekqaZFbQyx122KF45zvfWSy66KLFJptsUjzxxBNDKQKBQBUwRbbhhhummCSiUQd6iyBNgcBgwOK03XffPa0kfv/7318ce+yxxUsvvTT0b2v0lDRlfPvb3y622GKLFILAUj+OolXvMh4IzM545pln0l6QfJouuOCCoaOBXuLxxx9P74CLwl133RUriAcMZjwEZGZ1eO65514njpFf/vKXM4/xixkJ8eWy4pqD4NsrPJDnkZ92p6mqBOOKRSTdwgsvvJB0oNmup59+Oq3iNzUn2O/NN9/c0ebZwyJN4q/wRbLhZCeCGPm0mu7MM88s1lprreQYLrjUhRdemCqPwsrpyoIJktrj7Yr8/uUvf0nzmfke+ZpZMNBZHRqx5/vd7373OnnllVdmVkLKWppuNdY//elPbSsP9zXqHgSoD3a5Fz/o3nvvTaJjU1dy/ZDf2npCcr2qV486lVwftQsNu3xPxzu5h/dMKOTp06enVaosHKbBtbNVV101Lf8XxC1fu/b6g6A0ZzXQK9qXOlFbZ7wPxy1ptmmyFTuC/t5zzz0z39H999+fPtVF3336zzlCtthNgVhQ45g0+Zx8jbI45hrXXntt2hqCD0dZHMvXtKWLCOW+57T5f/fzP5+43C5yvdcBucd9992X5KGHHkr1rp4e1Wfktpbzns+p3SVCWUorNI1n0Zlrl9Lnc7sl8qPdX3PNNcXpp5+eFigdeeSRxVe/+tVir732SuK72GZi+hxyyCHFPvvsk6JH++/QQw9NCyuUlx3yc7kpw1y+ytCG9T5zGXunJ554YgqoaKpIXXC+svbMOW9IHP3aDN6F85VX1mO+Ky/l2IoQKN/LLrssPadV7nYMyHmuJ3yR1cE777wzPac8u1e+t+827Ldi9u67705l63dtGtG4XU9Z1N6DIYUrT/7PJ78j91SGt956a7oG8ezuVe865Lvf/W56d4L6eo/eGysT0kQnGkQq53YHMR2RJpWZQlXRvXgZHY44VwUdO3ZsMddcc6XMixqcK5VCrj3Hf6T2eLuiQj766KOpoSt8Bezl50/iZbZitwpWmrLkTspIpZ1o59I4j/JxHmU0UnEtQkledNFFxbe+9a2ZIurpJZdckhqGd2dqQBodKWXovHrXzGJUpfEZhdTmF4PH1F3Tb//XE/+ZIvIOVdB2O2ZllTt1JA8BzPdxb3mnFDolYhS7/CDrFAVFSQFSYOrfj3/845TXXEey+K0h5jqaFeBIxbvga0RRuL5j7kUpqbu16Wsl12Hv27W88wMPPDAp5UmTJiX/wfnmmy/tsL/lllsWRx11VFIm+Rny+e6tTozUCmJxh3esnH3qGAdlUEKP5XzlTzKSBSnqKf2h/JRj+d2oR/n9fuADH0ihVyZOnJjej0+BP3XGftvYXD3023ujF/mifepTn0oiqvuOO+6Y6qx0znWNWjnggAOKCRMmpCnZNddcM8WhKYuVzBYGuOa4ceMSEfCbc6zBbP6f7LnnnsVpp502s12oM/SM55QPeT344IMT4bCXV73BGB2CKCoD6eX9oIMOSh2Z9l2GtqxuKgudp/tqF7lsuinyowy5iShb5bX22msXo0aNKt7ylrcU88wzT/quXFgJTW9bok78r//inztmzJiUBikWRNZ311O+Vq3aqNmn3/l/YqaFb81XvvKV4vOf/3yx0047pedURsqW3mYZaQYEi/5S/gZExHdtXN1rtSrMVkdbbbVVyos824Nt4403biimmBEPebRFknrrXvnevqsz3HAOP/zwFNxaHSunsVqNblLuyqb2Ho6Vj/tutZt6ZpZK3XYN10SE3Ev5la9RKzbkVdb4RhbkyTtBFPUr7aAj0kTxGbXqcL0Ume5EMttTMRAmK+hUPplfcMEFixVXXDEViJchOmf5vN122y3FUnC+3+XrtitWDZ166qnpGl/84heLzTbbLN0vi98aKaXaCIjDySefnBqxa1Emrm2OVAesI28FSsJ5KgEnNHkhXnz+3q44p3ze6NGji3e/+93FUkst9Tp5z3vek2S55ZZLHecSSyyR5nM1kJ133nnmdcqSr6lxL7vssun9iO7s/TlOefvU4DSefKyeOEfHLe0RRxyRyFs7UJE1EIqNdVK9UBfkz/U0Xoq6k8UElDJiQCHJi0ZHoXsnlKj36T577LFHqqe1dcS91X9pxo8f/7r/RyIaPSWC1Pjt03NTorVpa0VaeWPFYHJ2jHKjKFyXOZqC19503O6jQ6bUjDCdu/nmm6frqNdGnyOBdmCUSYwETUexFgzCSlmEkFVPnnL+SG3n3QmQL3UI+aitM+q8Y9qd8ufL6b14PxS29+A9ewc6Gx0g0uMdaZuZ/GZBpjL50CHp6F2vLPnd68SRgLIgTa7tWghW7qTl3bUQAHpBu/M/cqONlHUpHazD0rFn4qQzZAFoRJoQR/UNWXGODrARaeLC4R4iyrNq0Lfyke/XTZEf5a08fHpmegVhRHRYlfynnOhrPmnENCsx5Z1JEJ30pS99KRFd+sO16Bh9pmd3HX2F/70L7VJ5IwXiF3qf7qE8pbfRtUFmM+iTDHwMrspiwMVAoOybQVug++SV1cV7Uv6NxODb4MA9pWXoqL23wQLiKw/S+F3+HxF2Xr5e7T1qRRrXcE/tDBnM13IP92p0HenlQX3Wj5VJk5ku3MN7ZjFrBx2Rpjzq57htVFU2c7Yj2ZRrtGIkrIIyjxkBewArezRaheBFls/TeIjzyybeTiSb8+TdaEnBe3FZFDzl2QwUAtNnNoW6HtO2l4kIiEnVCiwjFDZFoGFkK4fOmOJSeX2nJHTOFFZZpKdwMmFBZDDplVdeOTXCsqLUkCluSoBQysTIhjKgfP3OxKeeUOw6Xumkd/9yfnIeOdSpoBpUrajwPpVztkq1g7wVh8bvHSo313A9I12Nj9LoZCNopNgUinrs/XlvLJCmrHLdYiI3Ast5zqLOqDvevTQ6ifL/IxH1Xj0qH1NWeeqklcibqQIK2nVcj1LR3ihFo2QE2nt0zH9IA9Lp3NwelMFIV7QqH/VCJyE/3qG21Y4ltmpof5QpoiJ/6i0C3C6RrwdkUP3JZVl+L1mpI0CsEssvv3wawKm//lO31UPWG+/64Ycfnqmj/GYhdyyLfOYpOdMe+T3XE9eoFW1GPvP1XMs1XU9eXK/2/0Y61zlZpNWu61kpTd9rp+WpRNc0CG80PYdkszC7prYqffl+3ZL8/Pl5iTLXtnWkufx9ai/eU63ksvW+vDvH9BHOy9Z8lm2/Hdf+vId8rt/yody905wv0/Wt+hRuBq6vb64VZUeHNoPrezfy5zpmTujHZuK9uL7vtfck/s//ldPXS9OulO9Ze73atGXxPPQZHajtlUlTFu2SMcRMRiv0xREcNALMOps7ZZy5E4miYDrpBGdVqNAaBedCCpfC0uA0LN+Vkf8okLI4piFqXBSjBkcBs5Jh1M4tN2jKjeWgVlyHICKNFGwWHZ60GldtfojnaMfKFugPvJ/sCM4iWjV0Qog9a4e6qd4Y8SJNeYrVAKSZVbcq0C1It8EGy1oewcqjaTp5M/2rM+omkHBWQBZ2HecgEMhAYHYAdxgGCovPaglTlt122y2R4lboC2mitM4666w06p1jjjlSRE7bq+TpA6ZsLJ8CCwQCI4dRJBO06YRzzz136Gh1MGK1x522XDZ7m8ZC0pF7o/KR+k4NB6Z/jOJZW02Rlx1lESaDBNYW0yLdmk50T5aKCDkQCPQW2rD2Zvq7TJLwjXnnnTcZa+acc840HctloxV6Tpo8gJGd6R7ziTLrYUwP2V4FiTLHaG6XlWQQfCACgVkdvSZNLDXuw3fGlGH2c0FQTM3zcTPyKxOWXgFRQ5pMhfNBMe2TyZsgoKbq+OewkLHIdgNBmgKB/oDx5eyzz04LIjJhwjPsjsDyyw+Ua9DSSy+dXE9aoaekiWKyEgBh4sf09re/PTkccpTzifHlh0KcOBCb+gkEAiNDL0iT6SxTy5ZSC6Bp1GbVDN88JAUoMKstOTcff/zxXZ8Cawa+D6aukTUuAJyQLS7h68DvAZA4JIo/FkVrirwbQJr46NB9QZoCgd7ArBb/aH6cSFHmFxZCWQCjnSNTZrtYnvAQ/q3Nps57SpqY7K3MMa8og/wrOEAjR1b0WM1lVYFPViirTaZNm5b8ffphxg8E3ijoBWmioBADozUrHREovkJICcdW0I5ZXIQc4SDeyyl4xIhDuhWPOc4M8mQ6LsfC4RTLr9AKMU7cHEm7ARZzZNHKNe8gSFMgUD0MlOgZfoQLLLBA4h1CSFjByAeYXzUCZcYLmbL6nI5o1jZ7Rpo4fHImRopk0P5zVohhe+JDWA5v+Sc/hxzinDXK6i8jvm4pr0BgdkQvp+cMcsqxYdw7LxLg04RMWbGGOPV6wYeVRO7fSCn6z9LkfffdN/lVdstRHVkUQ8tUgHdAzwVpCgSqhZkt7RlhQorESDMlLy4T65MpOn7UuIYpO37WpuebraLrGWni08D5WwwhmTeXSDFZXeOB+DVZ5WU0aCl8jtgppgnfg1axKgKBQGP0kjQhRmXLMGtS/u0/5nKDJaE1ek0ckCBErREZ4rTO78jgzhLkVjFu2gVLEwsWZ1PTc0GaAoHqwcItBhZiZL9bs1oWoTDM8KF2jE7UJnEOC9LE2eKT2Qg9I02UBIWB0Zl+o8ApJhkVT4gPhKXz/B/KsRSY00Sn9aCm9/qxRDkQmNXRS9LUDHx7TIEJSSBGz6At9GDRNnXGysQpvFWMm3bhuZFFYR/CpykQqB6m3C1CMZOFS4h0Ly6bVbNmunAPq3ulEdiX2xC3IAYd4XUaoXLShOQYaSJFMokEIU0rrLBC+hTWnGMm3wcO4cxlCy20UIrfZJ+sxRZbLE3dCUQntgnlEwgEOsOgkKbZFXn1XJCmQKA3MDUngDbOgTQxzojNZorOIjRbxvC/ZFFGqPIUHgtUs0C8lZMmI0krUJjDsvUoi/l9S3tFXZZxkacRJhGthUQnHsaqOlYpq3GCNAUCnSNIU39BDxr0UdQxPRcIVA8LL+yUkUkT65LFZVbKmYJnyLGCd7nllnvdyn3pbF/TaFeEykkTtiZQnBFWzhTB9PImvRy9ESahzJnGbDHAEYuS4QhuPtJyQXsdBQKBzhGkqb8IR/BAoLewVZIdRvLKOI7eeIeVdDiH9mgrsjIvIUgTA03fSBNlgezU7i5sp2fB4+y1w1GLw7dRmIcRUM6yP17ub3vb21L6bG2y3UevV9wEArM6gjT1FxzglbtRLaUtKnqQpkCg+zAbZbUu/yVWpcw5OHmLk2anAmILJa4/9my1wo47kHRIE0KVw5DUolLSxJ/J0mPRvQWrzJm3rM++VOKkiJXAg50ysQTZahVOWHaI9pCYoRhOeasVO0DzDRg0B9JAYJARpOmfwck7b1Ba9T5w2eIuNh1/Tbsi2A8rEAh0FwYo9mVljMmcg9uP2awTTjghxV/DI8RnWnHFFZNfk43mLVSTlh81XmJLpXqolDQZSdnJWcZkhiO4aTbOWQJOCSBHiXC8mjx5cnLcYmUSqXfZZZdNjI+1id/TKquskq4hZAFyFXGbAoH20Q/SZGCDmNiRfBCtKgZfrN0UbKNRZbeQHcH5WBjdHnPMMSnycCAQ6C7sMmBFXN42hbGFexC3H/GZbMxrRZ2pO6v1DWZYpSxMk56hRjgkq2froVLShNjYUgGjk/Etttii+OY3v5mW83LAQoSEIDjkkENmWpgEvWN1svwPYcIKxU7hHF5+IAQrEAi0h36QJqEFTENxuLzvvvuGjg4Orr/++mTxtksBYlclkCYhB+zFhzQZMAZpCgS6j0yaxowZk/iFKPx8lCwsE6fJsbxq344A+AfDjXADmWOIDdkX0mRqTqAom+GxHLEY2b6AwvAgrEYYIIdvD2ojT1Yp03cezm+jQOd5KA9kWSB/KOcEAoH2kEmTeXvz+b0A0oSYmGo3HTVoEGzXXlOsPrZbqBJ5em6NNdZIpImfZ5CmQKD7YN1mQWI5Mi2HLzC08GeyTYppO9Nx/KOFMsJNOInjF321NInNxKLE6VFGTMOZJ0SYZJwlSUAp+z6JvimteUb+TVbVsS4JfjdlypTkA8AhnF8TT3hpLrzwwp5u9hkIzMpAmiyzJQLF9gKUlwUdov1fcMEFQ0cHByxg4rZwFbBjQZXIjuBGuHw0lUfV1q1AYHaEqXYbcVtcloNpM9DwVdp6660Tt0CIcJE8JScUAfKEZPWNNHGwNJKTcZkywt1rr73SSAthYmGiUCkTDyFKp/ACnMaFIRBygD+U6QTpKfu85YrrManxf4oI4YFAa9hIlz/NuHHj0gClF2BpuuGGG4qdd945jewGDfQP9wHL///85z8PHa0G9BzXBISJTrMIJlbPBQLdB73z5S9/eeaWbYQ/NcJk1xEO3va5NatlgRqjDIsTYw1XIgaavkzPyRiHbYRHppmkWZtkcquttkqmMSZrzqIcwwV8MyXnoawqETGX5UnsJqNB2y5QwBSO602aNCn5QAVpCgRaI5Mmm1T2ijQZ8QkwN3Xq1J7dsxOwvrF033333ZUTmCBNgUBvQO9wCxo1alTiCsIVGbjddtttxc9//vNkYcJHkCrHcQ56gPuCmSykyd6YPSdNVooceOCBM+MsMZOxOjGHcQLn78SPIDt+b7jhhsnpm8maQhF0yuo503ssTnYftzSQic31ECzpgjQFAq3BCdmcvhFYLy1NfBJZkVmPBw0s3OLC9SJmEtLEpcCoFnGyiqdqP6pAYHaDuJA2/reTyDzzzJOm2ixAsy0KDpFX5iNNjDLXXnttCjnCbzpP1VlZZ4cSs2X1UBlpwtzEReAELiPEA+y9997JLE6J8yng9M3Jm5mckuUciSXyW7I/nYdhUTJaFa4gX8uo2X51sa1KINAav/jFLxJh2m+//VJA2V6ATxNH8EH1aULkDMQMvqqenuPjaYBIWdv7ivI2cAwEAt2DwQ9eYA9bPEEEfj6LjDjanAGLqTocw6I0/tQ+uQ3l7VZwEivteh7c0hI/To95TxeWJuYvStQIb9q0aWnki9WNHz8+PRTChEgtv/zyyfrEUsW8z3zmoTJhIpbumuIL0hQItIaQHpbXmwrXpnoBpMmUOquwLQ0GDZQrRdoL0mTRCudS7gkGiRGnKRDoPrRjM1PZaiSsEasunyVxmRZffPEUCZyFiaWXGxBfJkQqcwt+TX3ZRsVNsbpMmlid+A7wVzLqtAyQxzpFwt+CKcy0nYfioCWGAoVryk4wqjw/mWXs2LGJTAVpCgRag/8OZWGqrNc+TVbA9sq61Ql6TZo4lyJNFPpxxx0XpCkQ6DK0M7NceVYKbxDpm3GGBWmnnXZKpEoMSXrQgM5sWN6fjkjXF9Jk7xakiYWJiezMM89M841PPfVUWglnqo7Z/sEHH0xmauawtddeO2XaFB5rlLgmCBOHLY7iHj4zSArIFF+QpkCgNbJPE9KkbfUCmTSZlrJCbdDAUi1v/B2qDl+SLU0UtBGvwWDVYQ4CgdkNfJw5cOe9bk25GajgECxKCJUpPHpphx12SATJVJ6ZLekYedZZZ53ERxptc9R10iTTfJNOO+205JMkI6bfRAQ22hXUjXnaSjoZA6Z7m/Fig4JeIlxXXnllIkx8AJAv03bmJv2vMPhnTJ8+PUhTINAGnnjiiRTmQzBHbasXQBSYv1lVWHMGDYLnWk3It6nqTcAzaTKIXH311ZPVvWrrViAwO8JgTXgijuBzzz13IkbZl5p19957701Wd3wDDxG+SMBLftQGNUITWBzCD7Eeuk6akJhnnnkmReTE4JAmRImzlb1fWItM1VGkzz77bApNwEQmqBRlIkyBEaCYTuYWPQirkm1T+EPZkRhp8pDh0xQItIccEdyqkqqdsikb/kwzZsxI2xQceuihaaq96k1x24E8WC3DAZSOsvyfnxeLN3M8a3gVKJMmiprlLUIOBALdB6ONkAFcfcR1xDfMWr3wwgtp8Lb77runUEiMOvw8TdMbUCJMVvtrp41WzkElpInTKe90e7kwd8kka5PMI02IkWk6K3rsOmwJIOUlYi4mKJ6J6ThTeBS9pbqsT2IqUDpIE58mprYgTYFAa/AbNNDYZZddEoGpCizN2rZglkZwLFvM3WKjyENVpKRdZN9J5UDvGI3ye6BnWLMN+KrQKUGaAoHegAVXWxauCBHiP20bJ5tza/eIEQfxI444IlmbLThjoMEr8A7+l82swJVMzwlYyapkHpF5TIYoJkrKqhGxmETzttzXMVNupt5YnmzxYHNeflATJ05Me8yJryBuk0CXHoxQQFbcRZymQKA1cnBLPk2CvFUF7ZFVi6VY+2dBZm22eSaL0wMPPFD5VFgzGJQpAyb7rEsIPZVX5NJf3QayOGHChKTEWdT5UcX0XCDQfYiJRsdpz9o27mE2a4MNNkg6iV+0QZw2iFzhJ/aee+tb35q2dmuloypzBOevZBVcXj1HcfJct5+ckSgHTM5aglXaZZyi5bFuKxXHKBjOq6xWphOQq7KSY1aLiOCBQHvIpKnqbVQyaXKf8jJegW0NfAx0+mltYt0xMEPism5iEWfVZg2nc7qtU/ICGAtfOKbae9O0pa2iAoFAd8FSbAqepdugTRvHKeggA5bDDjusuPjii5OLEF/qrJ8QJgvWDKyauRJURppynCbm73nnnTfNGfJJstRPwEqECuvj7M3b3VQbC5NNeZnzOUpy6LIjuyk9ViZKDiOkePhJMbXPKqRJPpnoseBAoNfgCN4r0sSXSRtnLUZIKCX+jczg2kC/wd+KFTvvLkBHrbnmmslRtArwsaDf6LxcFva+MiAMBALVwMDENFzWQXYY4TZk0MQok8MSCDeAc4jn1E4YkEpJkyCVSJAtUvg4WGJrLt/mvUiQlSv8mozu7ErM6Zuj6imnnJJGYcxkyJZRoCWBrE0ImPhOlNCsQpgAczXab+elBALdhjbWC9IE6joFVCZNSIkNvButSOklEDd+lfInb6zg/CWt8K0CSJOYcrZQcT8+FVbo0AdgZEyXEd8bSU4TEtIvqa2H5d/lulovXflYOV0zGe65wDeJ77Opd+1OJH5chB7kJJ4jgGv/yBS+0c7UfKWkCdExT2jUSWlbfszXwXH7wQgyxcok+B0HLKay8847L1mQmPj333//5OXOAmUFHQLFG57yqdIvowp4kSxngzDSDsxeMADhCGmOv1fBLd2jrLC0YX6LVfgLdQrTZfLHKZS/Ax1jG6eqBjTaPV+pHDvGyJaVy3Ql8sYxnyVQGoNLUwQiGFvVxyLGqi6uk81G+X1yVg8J6aWwHuvD1UODC64xXG2sPDPlzj/IYi31l3DPEXXbtLQ6i8CYaVKH9fvltPXE+c5xbbrLb/HlDDTy73rnZZEGr2CEyeTIIgwuAziE34TxBmHiO93ugK4y0mTOkGVIBlmUKALLAFmfBJniyS7OktVzvNwFthTbyctR0DzbjQQRLOdaQYdosVyJ21S7FYTlws7DFsti876HHnoomeQbAXvlnI6s+cxiXpTDuvMp1EaFqiMw7ej8Wml2X+AMavmz8zNDbgbPKUxDvn4r/xDWvZxe2Pjh+JN4hvI1OrUWCBJWPr/dKUr3kd678Oka3kkreJ/uqVxHGkCQQ6B7y3urfOscpWsUFK0W0uVnI43m0d0310nXd592Ia2BiY1prVA1HZ4HHOqb8sx1Pd8jP2+W8r2J99CoXruOuqx9IiWZNBkQWR1r2a//3aOT5+gGDFjyPT2PwZypMsSJ3+RI8+N85VN7HfWYrrN6OJcHYVn3TnKkdisNreKzZRRHdQ6qBNnKgUktgDGA7LfIB31OfM+/66UdBBGnx4Ddp9++1/7O38uSzyt/z1Lv2HCk9r7la5b/K58zUml2z3oijVXwAlMj+9613wwZe+yxRwoUqY1zpSGcrg2anKtubLXVVsmnDxdg6bGiLafN6R0ri3NcW5vwG28Qn9Fv6cvn1wqLkralbef2VhbGHG1/u+22S2EIOunTKiNN5hNlGruTOfGVkB2xERAmytXICmHihMXfAXslCJMAmHyeKApM1fUUBlNaXrJbhpEapTx58uRi0qRJ6ZO4ri1ZrMBr1Ck5zofKPSjPLIifVYAqiO/1RqIIk+PYs+cSODCL62UTfC107DpkhAxrdr5OvhWpQQJdF5MmRgHNOnPPlZm3UYGybFQOtdCpypOy9myuIRCgTrgd4pOtazrQfL486DTbgc7ZOd6FAKiuYfTi/GbP4D9WTc9tFI+It0vUaqGT9y751hlZ1buvd4nM8okxBaWMdMqO14M6o1w8D8uqumUEVy9sv3yr28pAKA51xWCg0bVZlcQ0y1YJbcyyWk6RprkpiRwRnKLwbrQbFo9c75V1uR47n+U4/5bvG2+8MdUDfjnqvzI2WvMsrmEwZArKyI4vIkuT1XOe1wDI9J3YKc7vhfVJndHGlKHylHcOoVbSICi2UxHQTnsyUFJ+2m474npGxMpGPVHH6bFynVPW9JEpAjrRKjqf3A34VCkjn9kHlOT/6TzWMCTLyHgQRKeDAMq3dyyP8qqO1UvfT1F23rE+hV+L/kbQZL+R0vxbf1POv++O6b+kca5zvEOiQxYgMf8ejuQ8lN9t+ZoskvLhGeSjfO5wxT2VR74fcZ96acviPO2FmN5ynnxnkcdaydfPaXyvl07552sT5V573Wbn1xNO4OokQ4t3pfwYchhukDyr94czY1UZaaKYt91229SYmKP5Nhgx6VR0GDogI1H/G2FJT1kJSeChPKTzszkQEWJ1UoEwXabCMiguCtmqOkHrfObvlKPr6ADrgdKm8DlniiSKPRvZEayWuE7tPUEnpbO0GpA5cOrUqUm8EPdtNBWCHJmC1MnoTJzvOohCM3gOJND1iQ5a59gIiIMOU1odA4VuNNwOjMxZ//LzEKNzpK3ZPTOsVGK25aOmbIilnjqUdsDfTdkYsSDP8qEzVqbNiJfOSiev/OX55JNPbvjuW0HnmeuFTaZdp5awuJ/6g1wjB1aJIhWNlpSr/8js9ttvnwYCPk3BsL7UAhnREauLRnlGfIhQPdKE0CEiygo58q60FfGZrBajRPzOpMn7cW15pqhcX1qjTnXF+cpP/pznmHfgc7/99kvHpDnppJPSVJL3lNuN8nJdgyI+jMKKGP3ltuVerqtM27XMDRfat3agrClnq2SMYuWHVceKGm2cHjISzs8sHet2u2IE7bnpLfW0PMhSR1jMla/yMKDkkkD8zpKPZeHIqqy801bWgF6JfCgbefMcysq7V8f4zA1KPolysyrS0nIDDrrIlKd+yG/TstxAtAN1Wf7zub6r7/5zjnNNK9EtBhLqvAF+/u2zU3E9+km7llf1j37P/9Nh8uEZDDSGe5+yuKdBUi4f96Rn9UXtXF+50ePOK79r38uSj9eT2nTKIJetTzrX9ctp653bSFi31EnGGu2bxUqb9HwGhQZH+u7huMtURpqM2nQeRiTMYViqgtZh61CY2rBXn0Z/SJTKiXVTbB5aB8BSoFJz/jaqwUApWiP5Mjy8Y0autWJvO51ss9gLphsQAWb0srAEyZv/6gWjQ35YzdwnW8qy6PAaTQ/p9PK0l3TOd51WZkLPIX2+h2duFu/F//IuLVLqd7umSJ2Nc8r381vn3k6MGed7fp1H+fx24/R4p/LOSoi8OF856WTLo/hasHCpZ/Kd897uPWvhOXO9UI/qXcf9WIlYL1iBWB+8y0YWFOTGM1AOCJD0yqWelVEZKL9cH93DtetBnfJukHv1lmLwXRticTVK08Fl0iR/LImseRSyqNjOcw/5IcrONXIes0gjLWKrjA0AnF/bbvK5LDHeo+M5jWOuNZwp406gXLLVUufJWuv+8iN/ubzk33fP5Ld36Vi74hwO3wgaV4FyXZEHbdfxXCbtiLQsh8i6dzUook3k5/AO1TUD10HLp/x495zxvQ/tlG6ge2t/60TL+ffdMf9JY7CjPWZxTFssHxuOyEO+H1FP6B3/+Z6fQf9Te+5wRXnk+5Hcj9RLWyvKjf5yXi6rkYjrKIPyPfJz10vfrmT9p47S3fKcrz8SVEaaZJYzo5UiSJP5ThYCnR7HK9YkTJDJnDWC9QLJyhYmip3SZZ0wAsu7EDNdMu8r5EBgVgal0A75HCkofqNk5u3ctsrQKYzU92tWgOekjKuEDkVnGggE3piojDRhxszR5oKRHSZ5ozBmOHOLTOUsTtgfr3oRO5nyLf0VTgC5YqrjDJ6dJ8VoQrZMSVGAgUCgNYyGWZJYdsvTc4FAIBDoDJWSJqbwTJpE+hZQigMZ5c0PAvFhKjevahS80korpekKZkjWJA7fpuScTzhPWjbNNBwIBNqH6Sj+NlafNPKzCwQCgUBzVEaazClyIkaGEB4rLDibLrfccskxOa/u4bRlVQKnUb4ARsXiM3AY5fmeCRMRn4mzWi+mNAKBNxK0N9PhnCuDNAUCgcDwUBlpYkUyzcZ6ZOUcnyQhB1ibOAyyRPHgN1XHSRzB4nthFZIpBKvqyoTJUtxtttkmTdvVWzkUCATqg5+Ntmg1lsj7s1pg2EAgEBgUVEaagPe6gFZ8kqx6syRbICkrfDh+C/ZmpZz4JVae8LXgDM7yZCqOZNJkeStn1mbxeQKBwD+Dw7ml1WKXlOM0BQKBQKAzVE6axC9haeLQbRsFjt9iJdggT4At4QRM0917771JoYsgbmNL/7NMZdIknWXNYWUKBDoD0iRIq6nyIE2BQCAwfFRKmijrHHYAQRo/fnyKFiz8AAdxAeaEFTDlxtrEwoQomZ7jOC7Gk2k5362wG2l8hUBgdkRYmgKBQKA7qJQ0CZgl0rHYSlbBcQK3Io7yFj33pptuSr5NIrGKFi56p8jbpvGWXnrpZGFyHNESjCsQCHSOIE2BQCDQHVRKmkzF2drEqjdTdEiQWEt5pRzfJlN1HMH5NgmdLpYTC5SVcyIYWyIt4mwgEBgegjQFAoFAd1ApaeJ/hDjZp0p8JqRprrnmSv4VooCzINlXyUq5HHTP3mr8n6S1Z4wtIGJaLhAYPoI0BQKBQHdQKWkC+1udffbZiQAhQlbS2RzQ5nkIE38nTt82UESYLIm2Ka+95mwMinSF83cgMHwEaQoEAoHuoHLSJETAHXfckWIs5ek54QOskGN9sss4hW7TXluoCE3ASdyuxM4LBAIjQ5CmQCAQ6A4qJ012gOe7ZBVd3nSXWBU3ZsyY4thjjy0uu+yyFBkcieL7tPbaaydfKDush5UpEBgZgjQFAoFAd1A5acoQzNKUG58mpMlKuaOPPrq48sori9133z2FJECYFlpooeL4449Pq+pM7QUCgZEhSFMgEAh0Bz0jTU8//XSxzz77zNxPTjwm03EIUw4vYLWciOCPPvro0FmBQGCkCNIUCAQC3UHPSNPf/va3FJfJRrym5myRIpilGE6sTyKB+++KK65IkcRZmmz6Syj9sDoFAsPDyy+/nLYgCtIUCAQCI0PPSBP89re/LaZNm5biMmXfpiy2eLBPnf9t3kvJZznppJPShqO2WhGqIMsDDzyQNv/tlfCxQuBEMH/yySdT/Chie5cqxD3rfUcqn3/++ZQHecrkshPxDHa+d70ZM2bUTVOFKD9WR8/z1FNP1U1TTzxzfn4y3OcejiDwgyrN8umYLYpuv/324uCDD04rVbfddtvYsDcQCASGiZ6SJlG9b7nllqS4BbNkYSLCEJi2W3jhhYvFFlssyahRo14nSyyxRDonCyvVqquumva2Ewxzyy23rEzyPTizm+Y44ogjiu2337448MADi0mTJhWbb755Inw+uyn53sR3xzbZZJNi3LhxxeGHH56sBvJ03HHHJf+wdkV6nahrut6ECROSQ369tN0U9xAh3hSsiPBiczl2zDHH1E1P/Ec886abbjqznCdOnDisPDe7V61IK79CXwyq5Hz6LB+X7ylTphQ77rhjsdFGG6VI/Hn6O1alBgKBwPDQU9JkJR3ixMJw9dVXp45bx7/11lunkASZGNSTsWPHvk50oM7bZZddeiZW+B1wwAEpSrm4UzoiIRNEPO+mCMeAECqT9ddfP0VQR9Lcz7YyH/nIR4o111yzWGmlldL9rTa0P1+7Ir2Vi4KIupfrdnqNkYhFAO4r/343u7f/iGd2Ti4j5d9pnsUDU5btnqfs5RWZtw+iRQqDIjk/o0ePTvlcbbXVivnnnz9NewsW6z+fORK/39raGWeckSx1gUAgEOgcPSVNZfz1r39N00OmCm6++eZkgepUnMdPqlciOjm55pprinPPPTdNI55++unFmWee2VXRsZ1zzjlpSlI4BlvNXHfddSmWlf+I++bPnI92pTbf5WNVSr6HfOfndKzZvfP/+Zzh5tn59jgUWNUUcL00ZZGeRZGFqx6J77ewuBFbDwkeywJqQ2xWQwFis0WOldLnnnvuWdx4441pSvePf/zjUCsMBAKBQCfoG2kKBHoNDtF8fNoFv6/p06en1ZyPPfbYQIk8kddee20ot/8HUfQfeeSRmWkffvjhjp47EAgEAvURpCkw28D0cCerMKW16vPvf//7wEo9CAhbm05k/kAgEAiMDEGaAoFAIBAIBNpAkKZAIBAIBAKBNhCkKRAIBAKBQKANBGkKBAKBQCAQaANBmgKBQCAQCATaQJCmQCAQCAQCgTYQpCkQCAQCgUCgDQRpCgQCgUAgEGgDb/pHIBAIBAKBQKAF/vGP/wedIDoBX/f/xQAAAABJRU5ErkJggg==)"
      ]
    },
    {
      "cell_type": "markdown",
      "id": "5f658ca1",
      "metadata": {
        "id": "5f658ca1"
      },
      "source": [
        "Si $x_1$ sigue una distribución normal con media $1.5$ y varianza $0.0016$, y $x_2$ esta misma distribución con media $1.48$ y varianza $0.0009$, determine:\n",
        "\n",
        "a) La probabilidad de que haya interferencia.\n",
        "\n",
        "b) El número de veces que es necesario simular el experimento, si se quiere que la probabilidad de interferencia estimada difiera de su valor verdadero en menos de $0.01$, con un nivel de seguridad del $95\\%.$"
      ]
    },
    {
      "cell_type": "markdown",
      "id": "fac00420",
      "metadata": {
        "id": "fac00420"
      },
      "source": [
        "Vamos a resolver este problema, procurando seguir la metodología vista en el curso."
      ]
    },
    {
      "cell_type": "markdown",
      "source": [
        "# Analiticamente:\n",
        "\n"
      ],
      "metadata": {
        "id": "7j3n_j07G_nC"
      },
      "id": "7j3n_j07G_nC"
    },
    {
      "cell_type": "markdown",
      "source": [
        "Inciso a)\n",
        "\n",
        "En el planteamiento ya se especifica que $x_1 \\sim N(1.5, 0.04)$ y que $x_1 \\sim N(1.48, 0.03)$.\n",
        "\n",
        "Usando la propiedad de resta de variables aleatorias independientes:\n",
        "\n",
        "La diferencia $x_1 - x_2$ tambien modela adecuadamente el sistema.\n",
        "\n",
        "Si $x_1 - x_2 < 0$ el diametro de la flecha es más grande que el espacio en el cojinte y, por tanto, hay interferencia. De lo contrario, las piezas embonan sin problema.\n",
        "\n",
        "Definimos: $w=x_1 - x_2$. Entonces:\n",
        "\n",
        "$E[w]=E[x_1-x_2]=E[x_1]-E[x_2]= \\frac{1}{50}$\n",
        "\n",
        "$Var[w]=Var[x_1-x_2]=Var[x_1]+Var[x_2]=\\frac{1}{400}$\n",
        "\n",
        "$\\sigma_{x_1,x_2}=\\frac{1}{20}$\n",
        "\n",
        "Definimos ahora:\n",
        "\n",
        "$w\\sim N(\\frac{1}{50}, \\frac{1}{400})$\n",
        "\n",
        "Aplicamos el teorema central del limite para calcular: $P(x_1 - x_2 < 0):$\n",
        "\n",
        "\n",
        "$ P(z>\\frac{w-μ}{σ})=P(z>\\frac{0-\\frac{1}{50}}{\\frac{1}{20}})= 0.3446$\n",
        "\n",
        "Concluimos que:\n",
        "\n",
        "$P(x_1 - x_2 < 0)=34.46\\%$\n",
        "\n",
        "\n",
        "Inciso b):\n",
        "\n",
        "Para determinar el numero de simulaciones con $\\epsilon=0.01$\n",
        "\n",
        "$ N > \\Bigg( \\frac{2 \\sigma z_{\\alpha/2}}{\\epsilon} \\Bigg) ^2=\\Bigg( \\frac{2(\\frac{1}{20})(1.65)}{0.01} \\Bigg) ^2=272$\n",
        "\n",
        "Calculo para el intervalo de confianza del $95\\%$:\n",
        "\n",
        "\n",
        "$$\\bar{x}-z_{\\alpha/2} \\cdot \\frac{s}{\\sqrt{n}} < \\mu < \\bar{x}+z_{\\alpha/2}\\cdot \\frac{s}{\\sqrt{n}}$$\n",
        "\n",
        "$$0.3446-(1.65)\\frac{\\frac{1}{20}}{\\sqrt{272}} < \\mu < 0.3446+(1.65)\\frac{\\frac{1}{20}}{\\sqrt{272}}$$\n",
        "\n",
        "$$0.3395< \\mu < 0.3496$$\n",
        "\n",
        "\n",
        "\n",
        "Concluimos que:\n",
        "\n",
        "La probabilidad de interferencia es:\n",
        "$$P(x_1 - x_2 < 0)=34.46\\%$$\n",
        "\n",
        "Ademas $272$ es el número de veces que es necesario simular el experimento.\n",
        "La probabilidad de interferencia con un nivel de confianza del $95\\%$ en el intervalo $[33.95\\% , 34.96\\% ]$\n",
        "\n",
        "\n",
        "\n",
        "\n",
        "\n",
        "\n",
        "\n"
      ],
      "metadata": {
        "id": "EUkSJEpZHCua"
      },
      "id": "EUkSJEpZHCua"
    },
    {
      "cell_type": "markdown",
      "source": [
        "## Por simulacion"
      ],
      "metadata": {
        "id": "gBdkeX3CHEMY"
      },
      "id": "gBdkeX3CHEMY"
    },
    {
      "cell_type": "markdown",
      "id": "ccd32164",
      "metadata": {
        "id": "ccd32164"
      },
      "source": [
        "### 1. Identifique las variables\n",
        "\n",
        "Tenemos dos: $x_1$ y $x_2$."
      ]
    },
    {
      "cell_type": "markdown",
      "id": "ae8735e5",
      "metadata": {
        "id": "ae8735e5"
      },
      "source": [
        "### 2 y 3. Determine la distribución de probabilidad y modele las variables aleatorias\n",
        "\n",
        "En el planteamiento ya se especifica que $x_1 \\sim N(1.5, 0.04)$ y que $x_1 \\sim N(1.48, 0.03)$."
      ]
    },
    {
      "cell_type": "markdown",
      "id": "b1b57a13",
      "metadata": {
        "id": "b1b57a13"
      },
      "source": [
        "### 4. Defina el modelo del sistema y los objetivos de la simulación\n",
        "\n",
        "La diferencia $x_1 - x_2$ modela adecuadamente el sistema.\n",
        "\n",
        "Si $x_2 - x_1 > 0$ el diametro de la flecha es más grande que el espacio en el cojinte y, por tanto, hay interferencia. De lo contrario, las piezas embonan sin problema.\n",
        "\n",
        "Objetivo: determinar la frecuencia con que esto ocurre, lo cual nos da una esrimación de la probabilidad de interefrencia.\n",
        "\n",
        "Una forma de implementarlo es mediante el siguiente código."
      ]
    },
    {
      "cell_type": "code",
      "execution_count": 18,
      "id": "191b1e9b",
      "metadata": {
        "id": "191b1e9b"
      },
      "outputs": [],
      "source": [
        "import numpy as np\n",
        "import random\n",
        "import matplotlib.pyplot as plt\n",
        "from scipy.stats import norm"
      ]
    },
    {
      "cell_type": "code",
      "execution_count": 19,
      "id": "e64c27d2",
      "metadata": {
        "id": "e64c27d2"
      },
      "outputs": [],
      "source": [
        "def interferencia():                #Esta función devuelve el valor 1 si hay interferencia o 0 si no la hay.\n",
        "    interf=0\n",
        "    x_1 = random.gauss(1.50,0.04)    #La funcion gauss genera un número que sigue una distribucion normal con\n",
        "    x_2 = random.gauss(1.48,0.03)   # la media y la desvicion estandar especificados.\n",
        "    if 0.0 < x_2 - x_1:\n",
        "        interf += 1\n",
        "    return interf"
      ]
    },
    {
      "cell_type": "code",
      "execution_count": 20,
      "id": "ebe51777",
      "metadata": {
        "colab": {
          "base_uri": "https://localhost:8080/"
        },
        "id": "ebe51777",
        "outputId": "d86cf638-a4a0-41ae-cf15-12dc5abd8752"
      },
      "outputs": [
        {
          "output_type": "execute_result",
          "data": {
            "text/plain": [
              "0"
            ]
          },
          "metadata": {},
          "execution_count": 20
        }
      ],
      "source": [
        "interferencia()"
      ]
    },
    {
      "cell_type": "markdown",
      "id": "d6186dac",
      "metadata": {
        "id": "d6186dac"
      },
      "source": [
        "### 5. Diseñe el experimento\n",
        "\n",
        "Para estimar la probabilidad de interferencia, ejecutamos $n$ veces la función anterior y calculamos de manera acumulativa\n",
        "la probabilidad de interferencia."
      ]
    },
    {
      "cell_type": "code",
      "execution_count": 21,
      "id": "f9a766a5",
      "metadata": {
        "id": "f9a766a5"
      },
      "outputs": [],
      "source": [
        "def prob_inter(n):\n",
        "    prob = []                       # Esta funcion devuelve esta lista \"prob\", con los valores de la probabilidad\n",
        "    inter = 0                       # estimada al contar las veces que hay interferencia y dividir entre las veces que\n",
        "    for i in range(n):              # se ha reptido la observacion mientras aumenta el numero de iteraciones.\n",
        "        inter += interferencia()\n",
        "        prob.append(inter/(i+1))\n",
        "    return prob"
      ]
    },
    {
      "cell_type": "code",
      "execution_count": 22,
      "id": "8099a245",
      "metadata": {
        "id": "8099a245"
      },
      "outputs": [],
      "source": [
        "X = prob_inter(500)                # Asignamos valores a n y realizamos el experimento"
      ]
    },
    {
      "cell_type": "code",
      "execution_count": 23,
      "id": "c5a5a3c2",
      "metadata": {
        "colab": {
          "base_uri": "https://localhost:8080/",
          "height": 447
        },
        "id": "c5a5a3c2",
        "outputId": "a2e66f7e-3a37-4200-8b94-dbce4555113e"
      },
      "outputs": [
        {
          "output_type": "execute_result",
          "data": {
            "text/plain": [
              "[<matplotlib.lines.Line2D at 0x78d0ff8c9ab0>]"
            ]
          },
          "metadata": {},
          "execution_count": 23
        },
        {
          "output_type": "display_data",
          "data": {
            "text/plain": [
              "<Figure size 640x480 with 1 Axes>"
            ],
            "image/png": "[encoded data removed]"
          },
          "metadata": {}
        }
      ],
      "source": [
        "plt.plot(X)                         # La gráfica muestra que la convergencia está garantizada con 500 iteraciones\n",
        "                                    # Sin embargo, diferentes ejecuciones darán resultados distintos"
      ]
    },
    {
      "cell_type": "code",
      "execution_count": 24,
      "id": "4ac4c689",
      "metadata": {
        "colab": {
          "base_uri": "https://localhost:8080/"
        },
        "id": "4ac4c689",
        "outputId": "4eb0f3bb-2c1d-4f14-cb0b-22856db9abb1"
      },
      "outputs": [
        {
          "output_type": "stream",
          "name": "stdout",
          "text": [
            "0.38931812915380676 0.04534903234996585\n"
          ]
        }
      ],
      "source": [
        "print(np.mean(X), np.std(X))"
      ]
    },
    {
      "cell_type": "markdown",
      "id": "34727279",
      "metadata": {
        "id": "34727279"
      },
      "source": [
        "### 6. Repita el experimento $n$ veces\n",
        "\n",
        "Una forma de hacerlo es mediante el siguiente codigo."
      ]
    },
    {
      "cell_type": "code",
      "execution_count": 25,
      "id": "908f1884",
      "metadata": {
        "id": "908f1884"
      },
      "outputs": [],
      "source": [
        "def modelo(n):\n",
        "    lista=[]\n",
        "    for i in range(n):\n",
        "        s = prob_inter(500)\n",
        "        lista.append(np.mean(s))\n",
        "    return lista"
      ]
    },
    {
      "cell_type": "code",
      "execution_count": 26,
      "id": "34868564",
      "metadata": {
        "id": "34868564"
      },
      "outputs": [],
      "source": [
        "Y=modelo(120)"
      ]
    },
    {
      "cell_type": "code",
      "execution_count": 27,
      "id": "8a95845e",
      "metadata": {
        "colab": {
          "base_uri": "https://localhost:8080/",
          "height": 432
        },
        "id": "8a95845e",
        "outputId": "e017043e-4691-42a3-878e-0119dd0039f1"
      },
      "outputs": [
        {
          "output_type": "display_data",
          "data": {
            "text/plain": [
              "<Figure size 640x480 with 1 Axes>"
            ],
            "image/png": "[encoded data removed]"
          },
          "metadata": {}
        }
      ],
      "source": [
        "plt.hist(Y)\n",
        "plt.show()"
      ]
    },
    {
      "cell_type": "code",
      "execution_count": 28,
      "id": "e892a16c",
      "metadata": {
        "colab": {
          "base_uri": "https://localhost:8080/"
        },
        "id": "e892a16c",
        "outputId": "96eaa116-ef23-46c5-d50f-5338a2ba4d21"
      },
      "outputs": [
        {
          "output_type": "stream",
          "name": "stdout",
          "text": [
            "0.34801682594399475 0.033401491711124345\n"
          ]
        }
      ],
      "source": [
        "print(np.mean(Y), np.std(Y))"
      ]
    },
    {
      "cell_type": "markdown",
      "id": "e5dc2362",
      "metadata": {
        "id": "e5dc2362"
      },
      "source": [
        "### Paso 7. Hallamos el intervalo de confianza.\n",
        "\n",
        "$$\\bar{x}-z_{\\alpha/2} \\cdot \\frac{s}{\\sqrt{n}} < \\mu < \\bar{x}+z_{\\alpha/2}\\cdot \\frac{s}{\\sqrt{n}}$$"
      ]
    },
    {
      "cell_type": "code",
      "execution_count": 29,
      "id": "23d0b48e",
      "metadata": {
        "colab": {
          "base_uri": "https://localhost:8080/"
        },
        "id": "23d0b48e",
        "outputId": "98a6dc59-1f84-4a97-8783-1a252ef3411c"
      },
      "outputs": [
        {
          "output_type": "execute_result",
          "data": {
            "text/plain": [
              "0.34801682594399475"
            ]
          },
          "metadata": {},
          "execution_count": 29
        }
      ],
      "source": [
        "np.mean(Y)"
      ]
    },
    {
      "cell_type": "code",
      "execution_count": 30,
      "id": "b29c74e6",
      "metadata": {
        "colab": {
          "base_uri": "https://localhost:8080/"
        },
        "id": "b29c74e6",
        "outputId": "fe44eb27-328d-4e2b-a6a5-421a74bc23da"
      },
      "outputs": [
        {
          "output_type": "execute_result",
          "data": {
            "text/plain": [
              "(0.3387584047980473, 0.3572752470899422)"
            ]
          },
          "metadata": {},
          "execution_count": 30
        }
      ],
      "source": [
        "np.mean(Y) - 1.96*np.std(Y)/np.sqrt(50), np.mean(Y) + 1.96*np.std(Y)/np.sqrt(50)"
      ]
    },
    {
      "cell_type": "code",
      "execution_count": 30,
      "id": "3f2cecf1",
      "metadata": {
        "id": "3f2cecf1"
      },
      "outputs": [],
      "source": []
    },
    {
      "cell_type": "markdown",
      "id": "112c0954",
      "metadata": {
        "id": "112c0954"
      },
      "source": [
        "### Para determinar el número de simulaciones"
      ]
    },
    {
      "cell_type": "markdown",
      "id": "0a1a63e7",
      "metadata": {
        "id": "0a1a63e7"
      },
      "source": [
        "$$ N > \\Bigg( \\frac{2 \\sigma z_{\\alpha/2}}{\\epsilon} \\Bigg) ^2 $$"
      ]
    },
    {
      "cell_type": "code",
      "execution_count": 31,
      "id": "1478d745",
      "metadata": {
        "id": "1478d745"
      },
      "outputs": [],
      "source": [
        "N = (2*np.std(X)*1.96/0.01)**2"
      ]
    },
    {
      "cell_type": "code",
      "execution_count": 32,
      "id": "fa6ae0ce",
      "metadata": {
        "colab": {
          "base_uri": "https://localhost:8080/"
        },
        "id": "fa6ae0ce",
        "outputId": "6ce28c5e-fecd-4015-d23c-7b19c31c2b21"
      },
      "outputs": [
        {
          "output_type": "stream",
          "name": "stdout",
          "text": [
            "316.0153535310641\n"
          ]
        }
      ],
      "source": [
        "print(N)"
      ]
    },
    {
      "cell_type": "markdown",
      "id": "a6d1c695",
      "metadata": {
        "id": "a6d1c695"
      },
      "source": [
        "### Podemos comparar con la sulución analítica del problema.\n",
        "\n",
        "Para ello usamos la teoría sobre la suma de variables con distribución normal."
      ]
    },
    {
      "cell_type": "code",
      "execution_count": 33,
      "id": "7284bee0",
      "metadata": {
        "colab": {
          "base_uri": "https://localhost:8080/"
        },
        "id": "7284bee0",
        "outputId": "862df8d2-8a67-4b5e-f0f2-e6c07d0ccbee"
      },
      "outputs": [
        {
          "output_type": "execute_result",
          "data": {
            "text/plain": [
              "0.3445782583896758"
            ]
          },
          "metadata": {},
          "execution_count": 33
        }
      ],
      "source": [
        "norm.cdf(-0.04, -0.02, 0.05)"
      ]
    },
    {
      "cell_type": "code",
      "execution_count": 34,
      "id": "a1a842a2",
      "metadata": {
        "colab": {
          "base_uri": "https://localhost:8080/"
        },
        "id": "a1a842a2",
        "outputId": "53366b47-e56b-449f-bb12-ef0b36333898"
      },
      "outputs": [
        {
          "output_type": "execute_result",
          "data": {
            "text/plain": [
              "-0.0034385675543189276"
            ]
          },
          "metadata": {},
          "execution_count": 34
        }
      ],
      "source": [
        "norm.cdf(-0.04, -0.02, 0.05)-np.mean(Y)"
      ]
    }
  ],
  "metadata": {
    "kernelspec": {
      "display_name": "Python 3 (ipykernel)",
      "language": "python",
      "name": "python3"
    },
    "language_info": {
      "codemirror_mode": {
        "name": "ipython",
        "version": 3
      },
      "file_extension": ".py",
      "mimetype": "text/x-python",
      "name": "python",
      "nbconvert_exporter": "python",
      "pygments_lexer": "ipython3",
      "version": "3.7.3"
    },
    "colab": {
      "provenance": [],
      "include_colab_link": true
    }
  },
  "nbformat": 4,
  "nbformat_minor": 5
}