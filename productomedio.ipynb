{
  "nbformat": 4,
  "nbformat_minor": 0,
  "metadata": {
    "colab": {
      "provenance": [],
      "authorship_tag": "ABX9TyMu2xOXVVBkZZ0M7icvH6pv",
      "include_colab_link": true
    },
    "kernelspec": {
      "name": "python3",
      "display_name": "Python 3"
    },
    "language_info": {
      "name": "python"
    }
  },
  "cells": [
    {
      "cell_type": "markdown",
      "metadata": {
        "id": "view-in-github",
        "colab_type": "text"
      },
      "source": [
        "<a href=\"https://colab.research.google.com/github/ErnestoFCh/Simulacion-I/blob/main/productomedio.ipynb\" target=\"_parent\"><img src=\"https://colab.research.google.com/assets/colab-badge.svg\" alt=\"Open In Colab\"/></a>"
      ]
    },
    {
      "cell_type": "code",
      "execution_count": 7,
      "metadata": {
        "id": "CXdLfOknv2u9",
        "outputId": "bb2c218a-b99b-4ec0-82a9-72effa36bf12",
        "colab": {
          "base_uri": "https://localhost:8080/"
        }
      },
      "outputs": [
        {
          "output_type": "stream",
          "name": "stdout",
          "text": [
            "0 289 310 89590\n",
            "1 310 895 277450\n",
            "2 895 258 230910\n",
            "3 258 745 192210\n",
            "4 745 215 160175\n",
            "5 215 621 133515\n",
            "6 621 179 111159\n",
            "7 179 517 92543\n",
            "8 517 149 77033\n",
            "9 149 430 64070\n",
            "10 430 124 53320\n",
            "11 124 358 44392\n",
            "12 358 103 36874\n",
            "13 103 297 30591\n",
            "14 297 858 254826\n",
            "15 858 247 211926\n",
            "16 247 713 176111\n",
            "17 713 206 146878\n",
            "18 206 595 122570\n",
            "19 595 171 101745\n",
            "20 171 494 84474\n"
          ]
        }
      ],
      "source": [
        "x1=289\n",
        "x2=310\n",
        "x3=0\n",
        "\n",
        "print(0,x1,x2,x1*x2)\n",
        "\n",
        "for i in range(20):\n",
        " j=len(str(x1*x2))/2\n",
        " if type(j)==int:\n",
        "  k=str(\"0\")+str(x1*x2)\n",
        "  x3=int(k[1:4])\n",
        "\n",
        "\n",
        " else:\n",
        "  k=str(x1*x2)\n",
        "  x3=int(k[0:3])\n",
        " print(i+1,x2,x3,x2*x3)\n",
        " x2=x3"
      ]
    }
  ]
}