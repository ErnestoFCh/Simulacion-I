{
  "nbformat": 4,
  "nbformat_minor": 0,
  "metadata": {
    "colab": {
      "provenance": [],
      "authorship_tag": "ABX9TyMzvOp81IM/eyVA/mx9c+Yn",
      "include_colab_link": true
    },
    "kernelspec": {
      "name": "python3",
      "display_name": "Python 3"
    },
    "language_info": {
      "name": "python"
    }
  },
  "cells": [
    {
      "cell_type": "markdown",
      "metadata": {
        "id": "view-in-github",
        "colab_type": "text"
      },
      "source": [
        "<a href=\"https://colab.research.google.com/github/ErnestoFCh/Simulacion-I/blob/main/Cuadrado_medio.ipynb\" target=\"_parent\"><img src=\"https://colab.research.google.com/assets/colab-badge.svg\" alt=\"Open In Colab\"/></a>"
      ]
    },
    {
      "cell_type": "code",
      "execution_count": 9,
      "metadata": {
        "colab": {
          "base_uri": "https://localhost:8080/"
        },
        "id": "PH9IsF7TZbhS",
        "outputId": "300fb665-cb6e-4be3-ae8a-4e814e471282"
      },
      "outputs": [
        {
          "output_type": "stream",
          "name": "stdout",
          "text": [
            "Ingrese un numero entero de cuatro digitos:2124\n",
            "5113\n",
            "1427\n",
            "0363\n",
            "1769\n",
            "1293\n",
            "6718\n",
            "1315\n",
            "7292\n",
            "1732\n",
            "9998\n",
            "9600\n",
            "1600\n",
            "5600\n",
            "3600\n",
            "9600\n",
            "1600\n",
            "5600\n",
            "3600\n",
            "9600\n",
            "1600\n",
            "5600\n",
            "3600\n",
            "9600\n",
            "1600\n",
            "5600\n",
            "3600\n",
            "9600\n",
            "1600\n",
            "5600\n",
            "3600\n",
            "9600\n",
            "1600\n",
            "5600\n",
            "3600\n",
            "9600\n",
            "1600\n",
            "5600\n",
            "3600\n",
            "9600\n",
            "1600\n",
            "5600\n",
            "3600\n",
            "9600\n",
            "1600\n",
            "5600\n",
            "3600\n",
            "9600\n",
            "1600\n",
            "5600\n",
            "3600\n"
          ]
        }
      ],
      "source": [
        "def MCM(x):\n",
        "  for i in range (50):\n",
        "\n",
        "\n",
        "   if len(str(x**2))==7:\n",
        "\n",
        "     k=str(0)+str(x**2)\n",
        "\n",
        "   else:\n",
        "     k=str(x**2)\n",
        "   x=int(k[2:6])\n",
        "   print(k[2:6])\n",
        "\n",
        "\n",
        "x=int(input(\"Ingrese un numero entero de cuatro digitos:\"))\n",
        "\n",
        "MCM(x)\n",
        "\n",
        "\n",
        ""
      ]
    }
  ]
}