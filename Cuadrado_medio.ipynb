{
  "nbformat": 4,
  "nbformat_minor": 0,
  "metadata": {
    "colab": {
      "provenance": [],
      "authorship_tag": "ABX9TyNzorXt9pjEzyCLUzY7eN9H",
      "include_colab_link": true
    },
    "kernelspec": {
      "name": "python3",
      "display_name": "Python 3"
    },
    "language_info": {
      "name": "python"
    }
  },
  "cells": [
    {
      "cell_type": "markdown",
      "metadata": {
        "id": "view-in-github",
        "colab_type": "text"
      },
      "source": [
        "<a href=\"https://colab.research.google.com/github/ErnestoFCh/Simulacion-I/blob/main/Cuadrado_medio.ipynb\" target=\"_parent\"><img src=\"https://colab.research.google.com/assets/colab-badge.svg\" alt=\"Open In Colab\"/></a>"
      ]
    },
    {
      "cell_type": "markdown",
      "source": [
        "# **Método de los cuadrados medios**\n",
        "Método propuesto en los años 40 por los matemáticos John von Neumann y Nicholas Metropolis, siendo utilizado para la generación de números pseudoaleatorios.\n",
        "\n",
        "El método consiste en tomar un número al azar, $X_0$ de $2n$ cifras que al ser elevado al cuadrado resulta un número de hasta $4n$ cifras, de no ser así se deben agregar ceros a la izquierda de dicho resultado para que éste tenga exactamente $4n$ cifras.\n",
        "\n",
        "Se denomina $X_1$ al número resultante de seleccionar las $2n$ cifras centrales del resultado anterior.\n",
        "\n",
        "Se genera el número pseudoaleatorio $U_1$ ubicando un punto decimal delante de las $2n$ cifras de $X_1$ y así sucesivamente para los demás números pseudoaleatorios."
      ],
      "metadata": {
        "id": "GpUoOzUZQBEq"
      }
    },
    {
      "cell_type": "code",
      "source": [
        "from tabulate import tabulate\n",
        "x=2124"
      ],
      "metadata": {
        "id": "Y32nqdLUSHLN"
      },
      "execution_count": 8,
      "outputs": []
    },
    {
      "cell_type": "code",
      "source": [
        "def MCM(x):\n",
        "  tabla=[[]]\n",
        "\n",
        "  for i in range (50):\n",
        "\n",
        "\n",
        "   if len(str(x**2))==7:\n",
        "\n",
        "     k=str(0)+str(x**2)\n",
        "\n",
        "   else:\n",
        "     k=str(x**2)\n",
        "   x=int(k[2:6])\n",
        "\n",
        "   tabla.append([i,x,k])\n",
        "  print(tabulate(tabla,headers=['i','xo','x^2']))\n",
        "\n",
        "\n",
        "\n",
        "\n",
        "MCM(x)\n"
      ],
      "metadata": {
        "id": "c1I8rRpfSNa2",
        "outputId": "89fcf3c5-f005-474c-c7d9-74c4619bfe1a",
        "colab": {
          "base_uri": "https://localhost:8080/"
        }
      },
      "execution_count": 13,
      "outputs": [
        {
          "output_type": "stream",
          "name": "stdout",
          "text": [
            "  i    xo       x^2\n",
            "---  ----  --------\n",
            "\n",
            "  0  5113  04511376\n",
            "  1  1427  26142769\n",
            "  2   363  02036329\n",
            "  3  1769    131769\n",
            "  4  1293  03129361\n",
            "  5  6718  01671849\n",
            "  6  1315  45131524\n",
            "  7  7292  01729225\n",
            "  8  1732  53173264\n",
            "  9  9998  02999824\n",
            " 10  9600  99960004\n",
            " 11  1600  92160000\n",
            " 12  5600  02560000\n",
            " 13  3600  31360000\n",
            " 14  9600  12960000\n",
            " 15  1600  92160000\n",
            " 16  5600  02560000\n",
            " 17  3600  31360000\n",
            " 18  9600  12960000\n",
            " 19  1600  92160000\n",
            " 20  5600  02560000\n",
            " 21  3600  31360000\n",
            " 22  9600  12960000\n",
            " 23  1600  92160000\n",
            " 24  5600  02560000\n",
            " 25  3600  31360000\n",
            " 26  9600  12960000\n",
            " 27  1600  92160000\n",
            " 28  5600  02560000\n",
            " 29  3600  31360000\n",
            " 30  9600  12960000\n",
            " 31  1600  92160000\n",
            " 32  5600  02560000\n",
            " 33  3600  31360000\n",
            " 34  9600  12960000\n",
            " 35  1600  92160000\n",
            " 36  5600  02560000\n",
            " 37  3600  31360000\n",
            " 38  9600  12960000\n",
            " 39  1600  92160000\n",
            " 40  5600  02560000\n",
            " 41  3600  31360000\n",
            " 42  9600  12960000\n",
            " 43  1600  92160000\n",
            " 44  5600  02560000\n",
            " 45  3600  31360000\n",
            " 46  9600  12960000\n",
            " 47  1600  92160000\n",
            " 48  5600  02560000\n",
            " 49  3600  31360000\n"
          ]
        }
      ]
    }
  ]
}